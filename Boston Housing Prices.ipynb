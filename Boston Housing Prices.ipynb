{
 "cells": [
  {
   "cell_type": "code",
   "execution_count": 1,
   "id": "0588c9da",
   "metadata": {},
   "outputs": [],
   "source": [
    "import pandas as pd\n",
    "import numpy as np\n",
    "import matplotlib.pyplot as plt\n",
    "import ppscore as pps\n",
    "import warnings\n",
    "from sklearn import linear_model\n",
    "from sklearn.model_selection import train_test_split\n",
    "from sklearn.metrics import mean_squared_error\n",
    "from sklearn.model_selection import GridSearchCV\n",
    "from sklearn.ensemble import RandomForestRegressor\n",
    "from sklearn.linear_model import LogisticRegression\n",
    "from catboost import CatBoostRegressor\n",
    "import xgboost as xgb\n",
    "from sklearn import preprocessing\n",
    "\n",
    "from sklearn.preprocessing import StandardScaler\n",
    "from sklearn.ensemble import ExtraTreesRegressor\n",
    "from sklearn.ensemble import GradientBoostingRegressor\n",
    "from sklearn.model_selection import KFold\n",
    "import seaborn as sns\n",
    "\n",
    "warnings.filterwarnings('ignore')"
   ]
  },
  {
   "cell_type": "code",
   "execution_count": 2,
   "id": "d2e342d8",
   "metadata": {},
   "outputs": [],
   "source": [
    "# General functions and variables\n",
    "\n",
    "le = preprocessing.LabelEncoder()\n",
    "\n",
    "def encode_drop(df1, df2, column_name):\n",
    "    return encode_drop_per_df(df1, column_name), encode_drop_per_df(df2, column_name)\n",
    "\n",
    "def encode_drop_per_df(df, column_name):\n",
    "    df['enc_'+column_name] = le.fit_transform(df[column_name].values)\n",
    "    return df.drop(column_name, axis=1)\n",
    "\n",
    "def bar(df, column_name, aggfunc=np.median, figsize=(4,4), xrotation=0):\n",
    "    pivot = df.pivot_table(index=column_name,\n",
    "                  values='SalePrice', aggfunc=aggfunc)\n",
    "\n",
    "    pivot.sort_values('SalePrice').plot(kind='bar', color='blue', figsize=figsize)\n",
    "    plt.xlabel(column_name)\n",
    "    plt.ylabel('Median Sale Price')\n",
    "    plt.xticks(rotation=xrotation)\n",
    "    plt.show()\n",
    "    \n",
    "def encode(df1, df2, col_name, manual_map):\n",
    "    df1[col_name] = df1[col_name].map(manual_map)\n",
    "    df2[col_name] = df2[col_name].map(manual_map)\n",
    "    return df1, df2\n",
    "\n",
    "def encode_corr(df1, df2, col_name):\n",
    "    pivot = df1.pivot_table(index=col_name,\n",
    "                      values='SalePrice', aggfunc=np.median)\n",
    "    manual_map = {}\n",
    "    for i, (idx, _) in enumerate(pivot.sort_values('SalePrice').iterrows()):\n",
    "        manual_map[idx] = i\n",
    "\n",
    "    return encode(df1, df2, col_name, manual_map)"
   ]
  },
  {
   "cell_type": "code",
   "execution_count": 3,
   "id": "15632b08",
   "metadata": {},
   "outputs": [],
   "source": [
    "train = pd.read_csv('data/train.csv')\n",
    "test = pd.read_csv('data/test.csv')"
   ]
  },
  {
   "cell_type": "code",
   "execution_count": 4,
   "id": "dbce4fa1",
   "metadata": {},
   "outputs": [
    {
     "name": "stdout",
     "output_type": "stream",
     "text": [
      "Train data shape: (1460, 81)\n",
      "Test data shape: (1459, 80)\n"
     ]
    }
   ],
   "source": [
    "print (f\"Train data shape: {train.shape}\")\n",
    "print (f\"Test data shape: {test.shape}\")"
   ]
  },
  {
   "cell_type": "code",
   "execution_count": 5,
   "id": "0e61cacf",
   "metadata": {},
   "outputs": [
    {
     "name": "stdout",
     "output_type": "stream",
     "text": [
      "<class 'pandas.core.frame.DataFrame'>\n",
      "RangeIndex: 1460 entries, 0 to 1459\n",
      "Data columns (total 81 columns):\n",
      " #   Column         Non-Null Count  Dtype  \n",
      "---  ------         --------------  -----  \n",
      " 0   Id             1460 non-null   int64  \n",
      " 1   MSSubClass     1460 non-null   int64  \n",
      " 2   MSZoning       1460 non-null   object \n",
      " 3   LotFrontage    1201 non-null   float64\n",
      " 4   LotArea        1460 non-null   int64  \n",
      " 5   Street         1460 non-null   object \n",
      " 6   Alley          91 non-null     object \n",
      " 7   LotShape       1460 non-null   object \n",
      " 8   LandContour    1460 non-null   object \n",
      " 9   Utilities      1460 non-null   object \n",
      " 10  LotConfig      1460 non-null   object \n",
      " 11  LandSlope      1460 non-null   object \n",
      " 12  Neighborhood   1460 non-null   object \n",
      " 13  Condition1     1460 non-null   object \n",
      " 14  Condition2     1460 non-null   object \n",
      " 15  BldgType       1460 non-null   object \n",
      " 16  HouseStyle     1460 non-null   object \n",
      " 17  OverallQual    1460 non-null   int64  \n",
      " 18  OverallCond    1460 non-null   int64  \n",
      " 19  YearBuilt      1460 non-null   int64  \n",
      " 20  YearRemodAdd   1460 non-null   int64  \n",
      " 21  RoofStyle      1460 non-null   object \n",
      " 22  RoofMatl       1460 non-null   object \n",
      " 23  Exterior1st    1460 non-null   object \n",
      " 24  Exterior2nd    1460 non-null   object \n",
      " 25  MasVnrType     1452 non-null   object \n",
      " 26  MasVnrArea     1452 non-null   float64\n",
      " 27  ExterQual      1460 non-null   object \n",
      " 28  ExterCond      1460 non-null   object \n",
      " 29  Foundation     1460 non-null   object \n",
      " 30  BsmtQual       1423 non-null   object \n",
      " 31  BsmtCond       1423 non-null   object \n",
      " 32  BsmtExposure   1422 non-null   object \n",
      " 33  BsmtFinType1   1423 non-null   object \n",
      " 34  BsmtFinSF1     1460 non-null   int64  \n",
      " 35  BsmtFinType2   1422 non-null   object \n",
      " 36  BsmtFinSF2     1460 non-null   int64  \n",
      " 37  BsmtUnfSF      1460 non-null   int64  \n",
      " 38  TotalBsmtSF    1460 non-null   int64  \n",
      " 39  Heating        1460 non-null   object \n",
      " 40  HeatingQC      1460 non-null   object \n",
      " 41  CentralAir     1460 non-null   object \n",
      " 42  Electrical     1459 non-null   object \n",
      " 43  1stFlrSF       1460 non-null   int64  \n",
      " 44  2ndFlrSF       1460 non-null   int64  \n",
      " 45  LowQualFinSF   1460 non-null   int64  \n",
      " 46  GrLivArea      1460 non-null   int64  \n",
      " 47  BsmtFullBath   1460 non-null   int64  \n",
      " 48  BsmtHalfBath   1460 non-null   int64  \n",
      " 49  FullBath       1460 non-null   int64  \n",
      " 50  HalfBath       1460 non-null   int64  \n",
      " 51  BedroomAbvGr   1460 non-null   int64  \n",
      " 52  KitchenAbvGr   1460 non-null   int64  \n",
      " 53  KitchenQual    1460 non-null   object \n",
      " 54  TotRmsAbvGrd   1460 non-null   int64  \n",
      " 55  Functional     1460 non-null   object \n",
      " 56  Fireplaces     1460 non-null   int64  \n",
      " 57  FireplaceQu    770 non-null    object \n",
      " 58  GarageType     1379 non-null   object \n",
      " 59  GarageYrBlt    1379 non-null   float64\n",
      " 60  GarageFinish   1379 non-null   object \n",
      " 61  GarageCars     1460 non-null   int64  \n",
      " 62  GarageArea     1460 non-null   int64  \n",
      " 63  GarageQual     1379 non-null   object \n",
      " 64  GarageCond     1379 non-null   object \n",
      " 65  PavedDrive     1460 non-null   object \n",
      " 66  WoodDeckSF     1460 non-null   int64  \n",
      " 67  OpenPorchSF    1460 non-null   int64  \n",
      " 68  EnclosedPorch  1460 non-null   int64  \n",
      " 69  3SsnPorch      1460 non-null   int64  \n",
      " 70  ScreenPorch    1460 non-null   int64  \n",
      " 71  PoolArea       1460 non-null   int64  \n",
      " 72  PoolQC         7 non-null      object \n",
      " 73  Fence          281 non-null    object \n",
      " 74  MiscFeature    54 non-null     object \n",
      " 75  MiscVal        1460 non-null   int64  \n",
      " 76  MoSold         1460 non-null   int64  \n",
      " 77  YrSold         1460 non-null   int64  \n",
      " 78  SaleType       1460 non-null   object \n",
      " 79  SaleCondition  1460 non-null   object \n",
      " 80  SalePrice      1460 non-null   int64  \n",
      "dtypes: float64(3), int64(35), object(43)\n",
      "memory usage: 924.0+ KB\n"
     ]
    }
   ],
   "source": [
    "train.info()"
   ]
  },
  {
   "cell_type": "code",
   "execution_count": 6,
   "id": "a3160f39",
   "metadata": {},
   "outputs": [
    {
     "data": {
      "text/html": [
       "<div>\n",
       "<style scoped>\n",
       "    .dataframe tbody tr th:only-of-type {\n",
       "        vertical-align: middle;\n",
       "    }\n",
       "\n",
       "    .dataframe tbody tr th {\n",
       "        vertical-align: top;\n",
       "    }\n",
       "\n",
       "    .dataframe thead th {\n",
       "        text-align: right;\n",
       "    }\n",
       "</style>\n",
       "<table border=\"1\" class=\"dataframe\">\n",
       "  <thead>\n",
       "    <tr style=\"text-align: right;\">\n",
       "      <th></th>\n",
       "      <th>Id</th>\n",
       "      <th>MSSubClass</th>\n",
       "      <th>LotFrontage</th>\n",
       "      <th>LotArea</th>\n",
       "      <th>OverallQual</th>\n",
       "      <th>OverallCond</th>\n",
       "      <th>YearBuilt</th>\n",
       "      <th>YearRemodAdd</th>\n",
       "      <th>MasVnrArea</th>\n",
       "      <th>BsmtFinSF1</th>\n",
       "      <th>...</th>\n",
       "      <th>WoodDeckSF</th>\n",
       "      <th>OpenPorchSF</th>\n",
       "      <th>EnclosedPorch</th>\n",
       "      <th>3SsnPorch</th>\n",
       "      <th>ScreenPorch</th>\n",
       "      <th>PoolArea</th>\n",
       "      <th>MiscVal</th>\n",
       "      <th>MoSold</th>\n",
       "      <th>YrSold</th>\n",
       "      <th>SalePrice</th>\n",
       "    </tr>\n",
       "  </thead>\n",
       "  <tbody>\n",
       "    <tr>\n",
       "      <th>count</th>\n",
       "      <td>1460.000000</td>\n",
       "      <td>1460.000000</td>\n",
       "      <td>1201.000000</td>\n",
       "      <td>1460.000000</td>\n",
       "      <td>1460.000000</td>\n",
       "      <td>1460.000000</td>\n",
       "      <td>1460.000000</td>\n",
       "      <td>1460.000000</td>\n",
       "      <td>1452.000000</td>\n",
       "      <td>1460.000000</td>\n",
       "      <td>...</td>\n",
       "      <td>1460.000000</td>\n",
       "      <td>1460.000000</td>\n",
       "      <td>1460.000000</td>\n",
       "      <td>1460.000000</td>\n",
       "      <td>1460.000000</td>\n",
       "      <td>1460.000000</td>\n",
       "      <td>1460.000000</td>\n",
       "      <td>1460.000000</td>\n",
       "      <td>1460.000000</td>\n",
       "      <td>1460.000000</td>\n",
       "    </tr>\n",
       "    <tr>\n",
       "      <th>mean</th>\n",
       "      <td>730.500000</td>\n",
       "      <td>56.897260</td>\n",
       "      <td>70.049958</td>\n",
       "      <td>10516.828082</td>\n",
       "      <td>6.099315</td>\n",
       "      <td>5.575342</td>\n",
       "      <td>1971.267808</td>\n",
       "      <td>1984.865753</td>\n",
       "      <td>103.685262</td>\n",
       "      <td>443.639726</td>\n",
       "      <td>...</td>\n",
       "      <td>94.244521</td>\n",
       "      <td>46.660274</td>\n",
       "      <td>21.954110</td>\n",
       "      <td>3.409589</td>\n",
       "      <td>15.060959</td>\n",
       "      <td>2.758904</td>\n",
       "      <td>43.489041</td>\n",
       "      <td>6.321918</td>\n",
       "      <td>2007.815753</td>\n",
       "      <td>180921.195890</td>\n",
       "    </tr>\n",
       "    <tr>\n",
       "      <th>std</th>\n",
       "      <td>421.610009</td>\n",
       "      <td>42.300571</td>\n",
       "      <td>24.284752</td>\n",
       "      <td>9981.264932</td>\n",
       "      <td>1.382997</td>\n",
       "      <td>1.112799</td>\n",
       "      <td>30.202904</td>\n",
       "      <td>20.645407</td>\n",
       "      <td>181.066207</td>\n",
       "      <td>456.098091</td>\n",
       "      <td>...</td>\n",
       "      <td>125.338794</td>\n",
       "      <td>66.256028</td>\n",
       "      <td>61.119149</td>\n",
       "      <td>29.317331</td>\n",
       "      <td>55.757415</td>\n",
       "      <td>40.177307</td>\n",
       "      <td>496.123024</td>\n",
       "      <td>2.703626</td>\n",
       "      <td>1.328095</td>\n",
       "      <td>79442.502883</td>\n",
       "    </tr>\n",
       "    <tr>\n",
       "      <th>min</th>\n",
       "      <td>1.000000</td>\n",
       "      <td>20.000000</td>\n",
       "      <td>21.000000</td>\n",
       "      <td>1300.000000</td>\n",
       "      <td>1.000000</td>\n",
       "      <td>1.000000</td>\n",
       "      <td>1872.000000</td>\n",
       "      <td>1950.000000</td>\n",
       "      <td>0.000000</td>\n",
       "      <td>0.000000</td>\n",
       "      <td>...</td>\n",
       "      <td>0.000000</td>\n",
       "      <td>0.000000</td>\n",
       "      <td>0.000000</td>\n",
       "      <td>0.000000</td>\n",
       "      <td>0.000000</td>\n",
       "      <td>0.000000</td>\n",
       "      <td>0.000000</td>\n",
       "      <td>1.000000</td>\n",
       "      <td>2006.000000</td>\n",
       "      <td>34900.000000</td>\n",
       "    </tr>\n",
       "    <tr>\n",
       "      <th>25%</th>\n",
       "      <td>365.750000</td>\n",
       "      <td>20.000000</td>\n",
       "      <td>59.000000</td>\n",
       "      <td>7553.500000</td>\n",
       "      <td>5.000000</td>\n",
       "      <td>5.000000</td>\n",
       "      <td>1954.000000</td>\n",
       "      <td>1967.000000</td>\n",
       "      <td>0.000000</td>\n",
       "      <td>0.000000</td>\n",
       "      <td>...</td>\n",
       "      <td>0.000000</td>\n",
       "      <td>0.000000</td>\n",
       "      <td>0.000000</td>\n",
       "      <td>0.000000</td>\n",
       "      <td>0.000000</td>\n",
       "      <td>0.000000</td>\n",
       "      <td>0.000000</td>\n",
       "      <td>5.000000</td>\n",
       "      <td>2007.000000</td>\n",
       "      <td>129975.000000</td>\n",
       "    </tr>\n",
       "    <tr>\n",
       "      <th>50%</th>\n",
       "      <td>730.500000</td>\n",
       "      <td>50.000000</td>\n",
       "      <td>69.000000</td>\n",
       "      <td>9478.500000</td>\n",
       "      <td>6.000000</td>\n",
       "      <td>5.000000</td>\n",
       "      <td>1973.000000</td>\n",
       "      <td>1994.000000</td>\n",
       "      <td>0.000000</td>\n",
       "      <td>383.500000</td>\n",
       "      <td>...</td>\n",
       "      <td>0.000000</td>\n",
       "      <td>25.000000</td>\n",
       "      <td>0.000000</td>\n",
       "      <td>0.000000</td>\n",
       "      <td>0.000000</td>\n",
       "      <td>0.000000</td>\n",
       "      <td>0.000000</td>\n",
       "      <td>6.000000</td>\n",
       "      <td>2008.000000</td>\n",
       "      <td>163000.000000</td>\n",
       "    </tr>\n",
       "    <tr>\n",
       "      <th>75%</th>\n",
       "      <td>1095.250000</td>\n",
       "      <td>70.000000</td>\n",
       "      <td>80.000000</td>\n",
       "      <td>11601.500000</td>\n",
       "      <td>7.000000</td>\n",
       "      <td>6.000000</td>\n",
       "      <td>2000.000000</td>\n",
       "      <td>2004.000000</td>\n",
       "      <td>166.000000</td>\n",
       "      <td>712.250000</td>\n",
       "      <td>...</td>\n",
       "      <td>168.000000</td>\n",
       "      <td>68.000000</td>\n",
       "      <td>0.000000</td>\n",
       "      <td>0.000000</td>\n",
       "      <td>0.000000</td>\n",
       "      <td>0.000000</td>\n",
       "      <td>0.000000</td>\n",
       "      <td>8.000000</td>\n",
       "      <td>2009.000000</td>\n",
       "      <td>214000.000000</td>\n",
       "    </tr>\n",
       "    <tr>\n",
       "      <th>max</th>\n",
       "      <td>1460.000000</td>\n",
       "      <td>190.000000</td>\n",
       "      <td>313.000000</td>\n",
       "      <td>215245.000000</td>\n",
       "      <td>10.000000</td>\n",
       "      <td>9.000000</td>\n",
       "      <td>2010.000000</td>\n",
       "      <td>2010.000000</td>\n",
       "      <td>1600.000000</td>\n",
       "      <td>5644.000000</td>\n",
       "      <td>...</td>\n",
       "      <td>857.000000</td>\n",
       "      <td>547.000000</td>\n",
       "      <td>552.000000</td>\n",
       "      <td>508.000000</td>\n",
       "      <td>480.000000</td>\n",
       "      <td>738.000000</td>\n",
       "      <td>15500.000000</td>\n",
       "      <td>12.000000</td>\n",
       "      <td>2010.000000</td>\n",
       "      <td>755000.000000</td>\n",
       "    </tr>\n",
       "  </tbody>\n",
       "</table>\n",
       "<p>8 rows × 38 columns</p>\n",
       "</div>"
      ],
      "text/plain": [
       "                Id   MSSubClass  LotFrontage        LotArea  OverallQual  \\\n",
       "count  1460.000000  1460.000000  1201.000000    1460.000000  1460.000000   \n",
       "mean    730.500000    56.897260    70.049958   10516.828082     6.099315   \n",
       "std     421.610009    42.300571    24.284752    9981.264932     1.382997   \n",
       "min       1.000000    20.000000    21.000000    1300.000000     1.000000   \n",
       "25%     365.750000    20.000000    59.000000    7553.500000     5.000000   \n",
       "50%     730.500000    50.000000    69.000000    9478.500000     6.000000   \n",
       "75%    1095.250000    70.000000    80.000000   11601.500000     7.000000   \n",
       "max    1460.000000   190.000000   313.000000  215245.000000    10.000000   \n",
       "\n",
       "       OverallCond    YearBuilt  YearRemodAdd   MasVnrArea   BsmtFinSF1  ...  \\\n",
       "count  1460.000000  1460.000000   1460.000000  1452.000000  1460.000000  ...   \n",
       "mean      5.575342  1971.267808   1984.865753   103.685262   443.639726  ...   \n",
       "std       1.112799    30.202904     20.645407   181.066207   456.098091  ...   \n",
       "min       1.000000  1872.000000   1950.000000     0.000000     0.000000  ...   \n",
       "25%       5.000000  1954.000000   1967.000000     0.000000     0.000000  ...   \n",
       "50%       5.000000  1973.000000   1994.000000     0.000000   383.500000  ...   \n",
       "75%       6.000000  2000.000000   2004.000000   166.000000   712.250000  ...   \n",
       "max       9.000000  2010.000000   2010.000000  1600.000000  5644.000000  ...   \n",
       "\n",
       "        WoodDeckSF  OpenPorchSF  EnclosedPorch    3SsnPorch  ScreenPorch  \\\n",
       "count  1460.000000  1460.000000    1460.000000  1460.000000  1460.000000   \n",
       "mean     94.244521    46.660274      21.954110     3.409589    15.060959   \n",
       "std     125.338794    66.256028      61.119149    29.317331    55.757415   \n",
       "min       0.000000     0.000000       0.000000     0.000000     0.000000   \n",
       "25%       0.000000     0.000000       0.000000     0.000000     0.000000   \n",
       "50%       0.000000    25.000000       0.000000     0.000000     0.000000   \n",
       "75%     168.000000    68.000000       0.000000     0.000000     0.000000   \n",
       "max     857.000000   547.000000     552.000000   508.000000   480.000000   \n",
       "\n",
       "          PoolArea       MiscVal       MoSold       YrSold      SalePrice  \n",
       "count  1460.000000   1460.000000  1460.000000  1460.000000    1460.000000  \n",
       "mean      2.758904     43.489041     6.321918  2007.815753  180921.195890  \n",
       "std      40.177307    496.123024     2.703626     1.328095   79442.502883  \n",
       "min       0.000000      0.000000     1.000000  2006.000000   34900.000000  \n",
       "25%       0.000000      0.000000     5.000000  2007.000000  129975.000000  \n",
       "50%       0.000000      0.000000     6.000000  2008.000000  163000.000000  \n",
       "75%       0.000000      0.000000     8.000000  2009.000000  214000.000000  \n",
       "max     738.000000  15500.000000    12.000000  2010.000000  755000.000000  \n",
       "\n",
       "[8 rows x 38 columns]"
      ]
     },
     "execution_count": 6,
     "metadata": {},
     "output_type": "execute_result"
    }
   ],
   "source": [
    "train.describe()"
   ]
  },
  {
   "cell_type": "code",
   "execution_count": 7,
   "id": "a83d3311",
   "metadata": {},
   "outputs": [],
   "source": [
    "def dummy(df, col):\n",
    "    df_dummies = pd.get_dummies(df[col], drop_first=True, prefix=col)\n",
    "    return df.join(df_dummies)"
   ]
  },
  {
   "cell_type": "markdown",
   "id": "61b4ab87",
   "metadata": {},
   "source": [
    "# MSSubClass"
   ]
  },
  {
   "cell_type": "code",
   "execution_count": 8,
   "id": "d5e597f6",
   "metadata": {},
   "outputs": [
    {
     "data": {
      "text/plain": [
       "array([ 20,  30,  40,  45,  50,  60,  70,  75,  80,  85,  90, 120, 160,\n",
       "       180, 190])"
      ]
     },
     "execution_count": 8,
     "metadata": {},
     "output_type": "execute_result"
    }
   ],
   "source": [
    "np.sort(train.MSSubClass.unique())"
   ]
  },
  {
   "cell_type": "code",
   "execution_count": 9,
   "id": "295a5b02",
   "metadata": {},
   "outputs": [
    {
     "data": {
      "text/plain": [
       "20     536\n",
       "60     299\n",
       "50     144\n",
       "120     87\n",
       "30      69\n",
       "160     63\n",
       "70      60\n",
       "80      58\n",
       "90      52\n",
       "190     30\n",
       "85      20\n",
       "75      16\n",
       "45      12\n",
       "180     10\n",
       "40       4\n",
       "Name: MSSubClass, dtype: int64"
      ]
     },
     "execution_count": 9,
     "metadata": {},
     "output_type": "execute_result"
    }
   ],
   "source": [
    "train.MSSubClass.value_counts(sort=True, dropna=False)"
   ]
  },
  {
   "cell_type": "code",
   "execution_count": 10,
   "id": "2b03550a",
   "metadata": {},
   "outputs": [],
   "source": [
    "# Note: \"150 - 1-1/2 STORY PUD - ALL AGES\" is missing"
   ]
  },
  {
   "cell_type": "code",
   "execution_count": 11,
   "id": "bae5780e",
   "metadata": {},
   "outputs": [],
   "source": [
    "new = [20,60,120,160]\n",
    "old = [30,70]\n",
    "def older_newer(x):\n",
    "    if x in new:\n",
    "        return 2\n",
    "    elif x in old:\n",
    "        return 1\n",
    "    else: return 0\n",
    "\n",
    "train['MSSubClass_OLDNEW'] = train.MSSubClass.apply(older_newer)\n",
    "test['MSSubClass_OLDNEW'] = test.MSSubClass.apply(older_newer)"
   ]
  },
  {
   "cell_type": "code",
   "execution_count": 12,
   "id": "8182229b",
   "metadata": {},
   "outputs": [],
   "source": [
    "story1 = [20,30,40]\n",
    "story15 = [45,50,150]\n",
    "story2 = [60,70,160]\n",
    "story25 = [75]\n",
    "\n",
    "def story(x):\n",
    "    if x in story1:\n",
    "        return 4\n",
    "    elif x in story15:\n",
    "        return 3\n",
    "    elif x in story2:\n",
    "        return 2\n",
    "    elif x in story25:\n",
    "        return 1\n",
    "    else: return 0\n",
    "\n",
    "train['MSSubClass_STORY'] = train.MSSubClass.apply(story)\n",
    "test['MSSubClass_STORY'] = test.MSSubClass.apply(story)"
   ]
  },
  {
   "cell_type": "code",
   "execution_count": 13,
   "id": "e828daa6",
   "metadata": {},
   "outputs": [],
   "source": [
    "all_styles = [20,90,190]\n",
    "all_ages = [40,45,50,75,90,150,190]\n",
    "def all_styles_ages(x):\n",
    "    if x in all_styles:\n",
    "        return 2\n",
    "    elif x in all_ages:\n",
    "        return 1\n",
    "    else: return 0\n",
    "\n",
    "train['MSSubClass_STYLES_AGES'] = train.MSSubClass.apply(all_styles_ages)\n",
    "test['MSSubClass_STYLES_AGES'] = test.MSSubClass.apply(all_styles_ages)"
   ]
  },
  {
   "cell_type": "code",
   "execution_count": 14,
   "id": "02c0ecf3",
   "metadata": {},
   "outputs": [],
   "source": [
    "pud = [120,150,160,180]\n",
    "train['MSSubClass_PUD'] = train.MSSubClass.apply(lambda x: 1 if x in pud else 0)\n",
    "test['MSSubClass_PUD'] = test.MSSubClass.apply(lambda x: 1 if x in pud else 0)"
   ]
  },
  {
   "cell_type": "code",
   "execution_count": 15,
   "id": "ca42bd26",
   "metadata": {},
   "outputs": [],
   "source": [
    "attic_finished = [50]\n",
    "attic_unfinished = [45]\n",
    "attic_wfinished = [40]\n",
    "\n",
    "def attic(x):\n",
    "    if x in attic_finished:\n",
    "        return 3\n",
    "    elif x in attic_unfinished:\n",
    "        return 2\n",
    "    elif x in attic_wfinished:\n",
    "        return 1\n",
    "    else: return 0\n",
    "\n",
    "train['MSSubClass_ATTIC'] = train.MSSubClass.apply(attic)\n",
    "test['MSSubClass_ATTIC'] = test.MSSubClass.apply(attic)"
   ]
  },
  {
   "cell_type": "code",
   "execution_count": 16,
   "id": "1a761642",
   "metadata": {},
   "outputs": [],
   "source": [
    "# TODO: Study these features\n",
    "split_multilevel = [80]\n",
    "split_foyer = [85]\n",
    "duplex = [90]\n",
    "multilevel = [180]\n",
    "family_conversion = [190]\n",
    "\n",
    "def other(x):\n",
    "    if x in split_multilevel:\n",
    "        return 5\n",
    "    elif x in split_foyer:\n",
    "        return 4\n",
    "    elif x in duplex:\n",
    "        return 3\n",
    "    elif x in multilevel:\n",
    "        return 2\n",
    "    elif x in family_conversion:\n",
    "        return 1\n",
    "    else: return 0\n",
    "\n",
    "train['MSSubClass_OTHER'] = train.MSSubClass.apply(other)\n",
    "test['MSSubClass_OTHER'] = test.MSSubClass.apply(other)"
   ]
  },
  {
   "cell_type": "code",
   "execution_count": 17,
   "id": "3ee921d3",
   "metadata": {},
   "outputs": [],
   "source": [
    "train.drop(\"MSSubClass\",inplace=True, axis=1)\n",
    "test.drop(\"MSSubClass\",inplace=True, axis=1)\n",
    "version = 'MSSubClass-dropped'"
   ]
  },
  {
   "cell_type": "markdown",
   "id": "fdf723ae",
   "metadata": {},
   "source": [
    "# MSZoning"
   ]
  },
  {
   "cell_type": "code",
   "execution_count": 18,
   "id": "cd67ef7f",
   "metadata": {},
   "outputs": [
    {
     "data": {
      "text/plain": [
       "array(['C (all)', 'FV', 'RH', 'RL', 'RM'], dtype=object)"
      ]
     },
     "execution_count": 18,
     "metadata": {},
     "output_type": "execute_result"
    }
   ],
   "source": [
    "np.sort(train.MSZoning.unique())"
   ]
  },
  {
   "cell_type": "code",
   "execution_count": 19,
   "id": "7aa1e029",
   "metadata": {},
   "outputs": [
    {
     "data": {
      "text/plain": [
       "RL         1151\n",
       "RM          218\n",
       "FV           65\n",
       "RH           16\n",
       "C (all)      10\n",
       "Name: MSZoning, dtype: int64"
      ]
     },
     "execution_count": 19,
     "metadata": {},
     "output_type": "execute_result"
    }
   ],
   "source": [
    "train.MSZoning.value_counts(sort=True, dropna=False)"
   ]
  },
  {
   "cell_type": "code",
   "execution_count": 20,
   "id": "f0104924",
   "metadata": {},
   "outputs": [
    {
     "data": {
      "text/plain": [
       "RL         1114\n",
       "RM          242\n",
       "FV           74\n",
       "C (all)      15\n",
       "RH           10\n",
       "NaN           4\n",
       "Name: MSZoning, dtype: int64"
      ]
     },
     "execution_count": 20,
     "metadata": {},
     "output_type": "execute_result"
    }
   ],
   "source": [
    "test.MSZoning.value_counts(sort=True, dropna=False)"
   ]
  },
  {
   "cell_type": "code",
   "execution_count": 21,
   "id": "bdf78eb6",
   "metadata": {},
   "outputs": [],
   "source": [
    "quality_pivot = train.pivot_table(index='MSZoning',\n",
    "                  values='SalePrice', aggfunc=np.median)"
   ]
  },
  {
   "cell_type": "code",
   "execution_count": 22,
   "id": "d4dbb387",
   "metadata": {},
   "outputs": [
    {
     "data": {
      "image/png": "[encoded data removed]",
      "text/plain": [
       "<Figure size 432x288 with 1 Axes>"
      ]
     },
     "metadata": {
      "needs_background": "light"
     },
     "output_type": "display_data"
    }
   ],
   "source": [
    "quality_pivot.sort_values('SalePrice').plot(kind='bar', color='blue')\n",
    "plt.xlabel('MSZoning')\n",
    "plt.ylabel('Median Sale Price')\n",
    "plt.xticks(rotation=0)\n",
    "plt.show()"
   ]
  },
  {
   "cell_type": "code",
   "execution_count": 23,
   "id": "d716b827",
   "metadata": {},
   "outputs": [],
   "source": [
    "featler = ['RH','RL','RP','RM',]\n",
    "train['MSZoning_Residential'] = train.MSZoning.apply(lambda x: 1 if x in featler else 0)\n",
    "test['MSZoning_Residential'] = test.MSZoning.apply(lambda x: 1 if x in featler else 0)"
   ]
  },
  {
   "cell_type": "code",
   "execution_count": 24,
   "id": "99ca5195",
   "metadata": {},
   "outputs": [],
   "source": [
    "def density(x):\n",
    "    if x in ['RH']:\n",
    "        return 1\n",
    "    elif  x in ['RM']:\n",
    "        return 2\n",
    "    elif x in ['RL']:\n",
    "        return 3\n",
    "    elif x in ['RP']:\n",
    "        return 4\n",
    "    else: return 0\n",
    "\n",
    "train['MSZoning_Density'] = train.MSZoning.apply(density)\n",
    "test['MSZoning_Density'] = test.MSZoning.apply(density)"
   ]
  },
  {
   "cell_type": "code",
   "execution_count": 25,
   "id": "896ac2c8",
   "metadata": {},
   "outputs": [],
   "source": [
    "featler = ['FV']\n",
    "train['MSZoning_FloatingVillage'] = train.MSZoning.apply(lambda x: 1 if x in featler else 0)\n",
    "test['MSZoning_FloatingVillage'] = test.MSZoning.apply(lambda x: 1 if x in featler else 0)"
   ]
  },
  {
   "cell_type": "code",
   "execution_count": 26,
   "id": "dc6cf11f",
   "metadata": {},
   "outputs": [],
   "source": [
    "train.drop(\"MSZoning\",inplace=True, axis=1)\n",
    "test.drop(\"MSZoning\",inplace=True, axis=1)"
   ]
  },
  {
   "cell_type": "markdown",
   "id": "60a85675",
   "metadata": {},
   "source": [
    "# Lot Frontage"
   ]
  },
  {
   "cell_type": "code",
   "execution_count": 27,
   "id": "ccc9083d",
   "metadata": {},
   "outputs": [
    {
     "data": {
      "text/plain": [
       "array([ 21.,  24.,  30.,  32.,  33.,  34.,  35.,  36.,  37.,  38.,  39.,\n",
       "        40.,  41.,  42.,  43.,  44.,  45.,  46.,  47.,  48.,  49.,  50.,\n",
       "        51.,  52.,  53.,  54.,  55.,  56.,  57.,  58.,  59.,  60.,  61.,\n",
       "        62.,  63.,  64.,  65.,  66.,  67.,  68.,  69.,  70.,  71.,  72.,\n",
       "        73.,  74.,  75.,  76.,  77.,  78.,  79.,  80.,  81.,  82.,  83.,\n",
       "        84.,  85.,  86.,  87.,  88.,  89.,  90.,  91.,  92.,  93.,  94.,\n",
       "        95.,  96.,  97.,  98.,  99., 100., 101., 102., 103., 104., 105.,\n",
       "       106., 107., 108., 109., 110., 111., 112., 114., 115., 116., 118.,\n",
       "       120., 121., 122., 124., 128., 129., 130., 134., 137., 138., 140.,\n",
       "       141., 144., 149., 150., 152., 153., 160., 168., 174., 182., 313.,\n",
       "        nan])"
      ]
     },
     "execution_count": 27,
     "metadata": {},
     "output_type": "execute_result"
    }
   ],
   "source": [
    "np.sort(train.LotFrontage.unique())"
   ]
  },
  {
   "cell_type": "code",
   "execution_count": 28,
   "id": "46c65150",
   "metadata": {},
   "outputs": [
    {
     "data": {
      "text/plain": [
       "NaN      259\n",
       "60.0     143\n",
       "70.0      70\n",
       "80.0      69\n",
       "50.0      57\n",
       "        ... \n",
       "111.0      1\n",
       "141.0      1\n",
       "112.0      1\n",
       "152.0      1\n",
       "144.0      1\n",
       "Name: LotFrontage, Length: 111, dtype: int64"
      ]
     },
     "execution_count": 28,
     "metadata": {},
     "output_type": "execute_result"
    }
   ],
   "source": [
    "train.LotFrontage.value_counts(sort=True, dropna=False)"
   ]
  },
  {
   "cell_type": "code",
   "execution_count": 29,
   "id": "6d7aff10",
   "metadata": {},
   "outputs": [
    {
     "data": {
      "image/png": "[encoded data removed]",
      "text/plain": [
       "<Figure size 432x288 with 1 Axes>"
      ]
     },
     "metadata": {
      "needs_background": "light"
     },
     "output_type": "display_data"
    }
   ],
   "source": [
    "plt.scatter(x=train['LotFrontage'], y=np.log(train.SalePrice))\n",
    "plt.ylabel('Sale Price')\n",
    "plt.xlabel('Lot Frontage')\n",
    "plt.show()"
   ]
  },
  {
   "cell_type": "code",
   "execution_count": 30,
   "id": "82993a16",
   "metadata": {},
   "outputs": [],
   "source": [
    "train.LotFrontage.fillna(0, inplace=True)\n",
    "test.LotFrontage.fillna(0, inplace=True)"
   ]
  },
  {
   "cell_type": "code",
   "execution_count": 31,
   "id": "dd417979",
   "metadata": {},
   "outputs": [],
   "source": [
    "# TODO Remove outlier"
   ]
  },
  {
   "cell_type": "markdown",
   "id": "87d7945a",
   "metadata": {},
   "source": [
    "# Lot Area"
   ]
  },
  {
   "cell_type": "code",
   "execution_count": 32,
   "id": "ce198a16",
   "metadata": {},
   "outputs": [
    {
     "data": {
      "text/plain": [
       "array([  1300,   1477,   1491, ..., 159000, 164660, 215245])"
      ]
     },
     "execution_count": 32,
     "metadata": {},
     "output_type": "execute_result"
    }
   ],
   "source": [
    "np.sort(train.LotArea.unique())"
   ]
  },
  {
   "cell_type": "code",
   "execution_count": 33,
   "id": "95f806ba",
   "metadata": {},
   "outputs": [
    {
     "data": {
      "text/plain": [
       "7200     25\n",
       "9600     24\n",
       "6000     17\n",
       "8400     14\n",
       "9000     14\n",
       "         ..\n",
       "13031     1\n",
       "10991     1\n",
       "8944      1\n",
       "6897      1\n",
       "8190      1\n",
       "Name: LotArea, Length: 1073, dtype: int64"
      ]
     },
     "execution_count": 33,
     "metadata": {},
     "output_type": "execute_result"
    }
   ],
   "source": [
    "train.LotArea.value_counts(sort=True, dropna=False)"
   ]
  },
  {
   "cell_type": "code",
   "execution_count": 34,
   "id": "f4ea40b5",
   "metadata": {},
   "outputs": [
    {
     "data": {
      "image/png": "[encoded data removed]",
      "text/plain": [
       "<Figure size 432x288 with 1 Axes>"
      ]
     },
     "metadata": {
      "needs_background": "light"
     },
     "output_type": "display_data"
    }
   ],
   "source": [
    "plt.scatter(x=train['LotArea'], y=np.log(train.SalePrice))\n",
    "plt.ylabel('Sale Price')\n",
    "plt.xlabel('Lot Area')\n",
    "plt.show()"
   ]
  },
  {
   "cell_type": "code",
   "execution_count": 35,
   "id": "c6617890",
   "metadata": {},
   "outputs": [],
   "source": [
    "# TODO Remove outlier"
   ]
  },
  {
   "cell_type": "markdown",
   "id": "d1846cfc",
   "metadata": {},
   "source": [
    "# Street"
   ]
  },
  {
   "cell_type": "code",
   "execution_count": 36,
   "id": "f4d8f2e6",
   "metadata": {},
   "outputs": [
    {
     "data": {
      "text/plain": [
       "array(['Grvl', 'Pave'], dtype=object)"
      ]
     },
     "execution_count": 36,
     "metadata": {},
     "output_type": "execute_result"
    }
   ],
   "source": [
    "np.sort(train.Street.unique())"
   ]
  },
  {
   "cell_type": "code",
   "execution_count": 37,
   "id": "871577b3",
   "metadata": {},
   "outputs": [
    {
     "data": {
      "text/plain": [
       "Pave    1454\n",
       "Grvl       6\n",
       "Name: Street, dtype: int64"
      ]
     },
     "execution_count": 37,
     "metadata": {},
     "output_type": "execute_result"
    }
   ],
   "source": [
    "train.Street.value_counts(sort=True, dropna=False)"
   ]
  },
  {
   "cell_type": "code",
   "execution_count": 38,
   "id": "b48878a5",
   "metadata": {},
   "outputs": [],
   "source": [
    "train['enc_street'] = le.fit_transform(train.Street.values)\n",
    "test['enc_street'] = le.fit_transform(test.Street.values)"
   ]
  },
  {
   "cell_type": "code",
   "execution_count": 39,
   "id": "ae9b7b43",
   "metadata": {},
   "outputs": [],
   "source": [
    "#train['enc_street'] = pd.get_dummies(train.Street, drop_first=True)\n",
    "#test['enc_street'] = pd.get_dummies(train.Street, drop_first=True)"
   ]
  },
  {
   "cell_type": "code",
   "execution_count": 40,
   "id": "b1815ab7",
   "metadata": {},
   "outputs": [],
   "source": [
    "train.drop(\"Street\",inplace=True, axis=1)\n",
    "test.drop(\"Street\",inplace=True, axis=1)"
   ]
  },
  {
   "cell_type": "markdown",
   "id": "0aab45c4",
   "metadata": {},
   "source": [
    "# Alley"
   ]
  },
  {
   "cell_type": "code",
   "execution_count": 41,
   "id": "abea4f58",
   "metadata": {},
   "outputs": [
    {
     "data": {
      "text/plain": [
       "NaN     1369\n",
       "Grvl      50\n",
       "Pave      41\n",
       "Name: Alley, dtype: int64"
      ]
     },
     "execution_count": 41,
     "metadata": {},
     "output_type": "execute_result"
    }
   ],
   "source": [
    "train.Alley.value_counts(sort=True, dropna=False)"
   ]
  },
  {
   "cell_type": "code",
   "execution_count": 42,
   "id": "0c503ee6",
   "metadata": {},
   "outputs": [
    {
     "data": {
      "text/plain": [
       "NaN     1352\n",
       "Grvl      70\n",
       "Pave      37\n",
       "Name: Alley, dtype: int64"
      ]
     },
     "execution_count": 42,
     "metadata": {},
     "output_type": "execute_result"
    }
   ],
   "source": [
    "test.Alley.value_counts(sort=True, dropna=False)"
   ]
  },
  {
   "cell_type": "code",
   "execution_count": 43,
   "id": "decd8520",
   "metadata": {},
   "outputs": [],
   "source": [
    "train.Alley.fillna(\"No Alley\", inplace=True)\n",
    "test.Alley.fillna(\"No Alley\", inplace=True)"
   ]
  },
  {
   "cell_type": "code",
   "execution_count": 44,
   "id": "df65e85c",
   "metadata": {},
   "outputs": [
    {
     "data": {
      "image/png": "[encoded data removed]",
      "text/plain": [
       "<Figure size 288x288 with 1 Axes>"
      ]
     },
     "metadata": {
      "needs_background": "light"
     },
     "output_type": "display_data"
    }
   ],
   "source": [
    "bar(train, \"Alley\")"
   ]
  },
  {
   "cell_type": "code",
   "execution_count": 45,
   "id": "d2f8f917",
   "metadata": {},
   "outputs": [],
   "source": [
    "# Manually encoding\n",
    "Alley_map = {\"Grvl\":0, \n",
    "                 \"No Alley\":1, \n",
    "                 \"Pave\":2}\n",
    "# Note: Manually encoding alley doesn't affect performance\n",
    "#train['Alley'] = train['Alley'].map(Alley_map)\n",
    "#test['Alley'] = test['Alley'].map(Alley_map)"
   ]
  },
  {
   "cell_type": "code",
   "execution_count": 46,
   "id": "d86769f4",
   "metadata": {},
   "outputs": [],
   "source": [
    "train, test = encode_drop(train, test, \"Alley\")"
   ]
  },
  {
   "cell_type": "markdown",
   "id": "444985e6",
   "metadata": {},
   "source": [
    "# Lot Shape"
   ]
  },
  {
   "cell_type": "code",
   "execution_count": 47,
   "id": "a0d8cd77",
   "metadata": {},
   "outputs": [
    {
     "data": {
      "text/plain": [
       "Reg    925\n",
       "IR1    484\n",
       "IR2     41\n",
       "IR3     10\n",
       "Name: LotShape, dtype: int64"
      ]
     },
     "execution_count": 47,
     "metadata": {},
     "output_type": "execute_result"
    }
   ],
   "source": [
    "train.LotShape.value_counts(sort=True, dropna=False)"
   ]
  },
  {
   "cell_type": "code",
   "execution_count": 48,
   "id": "f0a74345",
   "metadata": {},
   "outputs": [
    {
     "data": {
      "image/png": "[encoded data removed]",
      "text/plain": [
       "<Figure size 288x288 with 1 Axes>"
      ]
     },
     "metadata": {
      "needs_background": "light"
     },
     "output_type": "display_data"
    }
   ],
   "source": [
    "bar(train, \"LotShape\")"
   ]
  },
  {
   "cell_type": "code",
   "execution_count": 49,
   "id": "56a2735c",
   "metadata": {},
   "outputs": [],
   "source": [
    "# Manually encoding - follow Median order\n",
    "manual_map = {\"IR3\":1, \n",
    "                 \"IR2\":3,\n",
    "                 \"IR1\":2, \n",
    "                 \"Reg\":0}\n",
    "\n",
    "train['LotShape'] = train['LotShape'].map(manual_map)\n",
    "test['LotShape'] = test['LotShape'].map(manual_map)"
   ]
  },
  {
   "cell_type": "code",
   "execution_count": 50,
   "id": "249e1cce",
   "metadata": {},
   "outputs": [],
   "source": [
    "#train, test = encode_drop(train, test, \"LotShape\")"
   ]
  },
  {
   "cell_type": "markdown",
   "id": "b46a12dd",
   "metadata": {},
   "source": [
    "# Land Contour"
   ]
  },
  {
   "cell_type": "code",
   "execution_count": 51,
   "id": "3a9cecc9",
   "metadata": {},
   "outputs": [
    {
     "data": {
      "text/plain": [
       "Lvl    1311\n",
       "Bnk      63\n",
       "HLS      50\n",
       "Low      36\n",
       "Name: LandContour, dtype: int64"
      ]
     },
     "execution_count": 51,
     "metadata": {},
     "output_type": "execute_result"
    }
   ],
   "source": [
    "train.LandContour.value_counts(sort=True, dropna=False)"
   ]
  },
  {
   "cell_type": "code",
   "execution_count": 52,
   "id": "eccce613",
   "metadata": {},
   "outputs": [
    {
     "data": {
      "text/plain": [
       "Lvl    1311\n",
       "HLS      70\n",
       "Bnk      54\n",
       "Low      24\n",
       "Name: LandContour, dtype: int64"
      ]
     },
     "execution_count": 52,
     "metadata": {},
     "output_type": "execute_result"
    }
   ],
   "source": [
    "test.LandContour.value_counts(sort=True, dropna=False)"
   ]
  },
  {
   "cell_type": "code",
   "execution_count": 53,
   "id": "91181841",
   "metadata": {},
   "outputs": [
    {
     "data": {
      "image/png": "[encoded data removed]",
      "text/plain": [
       "<Figure size 288x288 with 1 Axes>"
      ]
     },
     "metadata": {
      "needs_background": "light"
     },
     "output_type": "display_data"
    }
   ],
   "source": [
    "bar(train, \"LandContour\")"
   ]
  },
  {
   "cell_type": "code",
   "execution_count": 54,
   "id": "06a1f7f3",
   "metadata": {},
   "outputs": [],
   "source": [
    "# Manually encoding - follow Median order\n",
    "manual_map = {\"Low\":0, \n",
    "                 \"HLS\":1,\n",
    "                 \"Bnk\":2, \n",
    "                 \"Lvl\":3}\n",
    "\n",
    "# Note: Manually encoding alley doesn't affect performance\n",
    "#train['LandContour'] = train['LandContour'].map(manual_map)\n",
    "#test['LandContour'] = test['LandContour'].map(manual_map)"
   ]
  },
  {
   "cell_type": "code",
   "execution_count": 55,
   "id": "fc86728f",
   "metadata": {},
   "outputs": [],
   "source": [
    "train, test = encode_drop(train, test, \"LandContour\")"
   ]
  },
  {
   "cell_type": "markdown",
   "id": "77603f35",
   "metadata": {},
   "source": [
    "# Utilities"
   ]
  },
  {
   "cell_type": "code",
   "execution_count": 56,
   "id": "082533de",
   "metadata": {},
   "outputs": [
    {
     "data": {
      "text/plain": [
       "AllPub    1459\n",
       "NoSeWa       1\n",
       "Name: Utilities, dtype: int64"
      ]
     },
     "execution_count": 56,
     "metadata": {},
     "output_type": "execute_result"
    }
   ],
   "source": [
    "train.Utilities.value_counts(sort=True, dropna=False)"
   ]
  },
  {
   "cell_type": "code",
   "execution_count": 57,
   "id": "889b3329",
   "metadata": {},
   "outputs": [
    {
     "data": {
      "text/plain": [
       "AllPub    1457\n",
       "NaN          2\n",
       "Name: Utilities, dtype: int64"
      ]
     },
     "execution_count": 57,
     "metadata": {},
     "output_type": "execute_result"
    }
   ],
   "source": [
    "test.Utilities.value_counts(sort=True, dropna=False)"
   ]
  },
  {
   "cell_type": "code",
   "execution_count": 58,
   "id": "aae80b1f",
   "metadata": {},
   "outputs": [],
   "source": [
    "#train['enc_utilities'] = pd.get_dummies(train.Utilities, drop_first=True)\n",
    "#test['enc_utilities'] = pd.get_dummies(train.Utilities, drop_first=True)"
   ]
  },
  {
   "cell_type": "code",
   "execution_count": 59,
   "id": "40626a67",
   "metadata": {},
   "outputs": [],
   "source": [
    "#train.drop(\"Utilities\",inplace=True, axis=1)\n",
    "#test.drop(\"Utilities\",inplace=True, axis=1)"
   ]
  },
  {
   "cell_type": "markdown",
   "id": "dbaaecfe",
   "metadata": {},
   "source": [
    "# Lot Config"
   ]
  },
  {
   "cell_type": "code",
   "execution_count": 60,
   "id": "e106c1bd",
   "metadata": {},
   "outputs": [
    {
     "data": {
      "text/plain": [
       "Inside     1052\n",
       "Corner      263\n",
       "CulDSac      94\n",
       "FR2          47\n",
       "FR3           4\n",
       "Name: LotConfig, dtype: int64"
      ]
     },
     "execution_count": 60,
     "metadata": {},
     "output_type": "execute_result"
    }
   ],
   "source": [
    "train.LotConfig.value_counts(sort=True, dropna=False)"
   ]
  },
  {
   "cell_type": "code",
   "execution_count": 61,
   "id": "3d21e082",
   "metadata": {},
   "outputs": [
    {
     "data": {
      "text/plain": [
       "Inside     1081\n",
       "Corner      248\n",
       "CulDSac      82\n",
       "FR2          38\n",
       "FR3          10\n",
       "Name: LotConfig, dtype: int64"
      ]
     },
     "execution_count": 61,
     "metadata": {},
     "output_type": "execute_result"
    }
   ],
   "source": [
    "test.LotConfig.value_counts(sort=True, dropna=False)"
   ]
  },
  {
   "cell_type": "code",
   "execution_count": 62,
   "id": "de72840d",
   "metadata": {},
   "outputs": [
    {
     "data": {
      "image/png": "[encoded data removed]",
      "text/plain": [
       "<Figure size 288x288 with 1 Axes>"
      ]
     },
     "metadata": {
      "needs_background": "light"
     },
     "output_type": "display_data"
    }
   ],
   "source": [
    "bar(train, \"LotConfig\")"
   ]
  },
  {
   "cell_type": "code",
   "execution_count": 63,
   "id": "5281b67b",
   "metadata": {},
   "outputs": [],
   "source": [
    "# Manually encoding - follow Median order\n",
    "manual_map = {\"Inside\":0, \n",
    "                 \"Corner\":1,\n",
    "                 \"FR2\":2, \n",
    "                 \"FR3\":3, \n",
    "                 \"CulDSac\":4}\n",
    "\n",
    "train['LotConfig'] = train['LotConfig'].map(manual_map)\n",
    "test['LotConfig'] = test['LotConfig'].map(manual_map)"
   ]
  },
  {
   "cell_type": "markdown",
   "id": "a7bce8b1",
   "metadata": {},
   "source": [
    "# Land Slope"
   ]
  },
  {
   "cell_type": "code",
   "execution_count": 64,
   "id": "43fd4114",
   "metadata": {},
   "outputs": [
    {
     "data": {
      "text/plain": [
       "Gtl    1382\n",
       "Mod      65\n",
       "Sev      13\n",
       "Name: LandSlope, dtype: int64"
      ]
     },
     "execution_count": 64,
     "metadata": {},
     "output_type": "execute_result"
    }
   ],
   "source": [
    "train.LandSlope.value_counts(sort=True, dropna=False)"
   ]
  },
  {
   "cell_type": "code",
   "execution_count": 65,
   "id": "3d884a76",
   "metadata": {},
   "outputs": [
    {
     "data": {
      "text/plain": [
       "Gtl    1396\n",
       "Mod      60\n",
       "Sev       3\n",
       "Name: LandSlope, dtype: int64"
      ]
     },
     "execution_count": 65,
     "metadata": {},
     "output_type": "execute_result"
    }
   ],
   "source": [
    "test.LandSlope.value_counts(sort=True, dropna=False)"
   ]
  },
  {
   "cell_type": "code",
   "execution_count": 66,
   "id": "fbcaafd8",
   "metadata": {},
   "outputs": [
    {
     "data": {
      "image/png": "[encoded data removed]",
      "text/plain": [
       "<Figure size 288x288 with 1 Axes>"
      ]
     },
     "metadata": {
      "needs_background": "light"
     },
     "output_type": "display_data"
    }
   ],
   "source": [
    "bar(train, \"LandSlope\")"
   ]
  },
  {
   "cell_type": "code",
   "execution_count": 67,
   "id": "17d1efed",
   "metadata": {},
   "outputs": [],
   "source": [
    "# Manually encoding - follow Median order\n",
    "manual_map = {\"Gtl\":0, \n",
    "                 \"Sev\":1,\n",
    "                 \"Mod\":2}\n",
    "\n",
    "train, test = encode(train, test, 'LandSlope', manual_map)"
   ]
  },
  {
   "cell_type": "markdown",
   "id": "7a043e25",
   "metadata": {},
   "source": [
    "# Neighborhood"
   ]
  },
  {
   "cell_type": "code",
   "execution_count": 68,
   "id": "c23a7ec7",
   "metadata": {},
   "outputs": [
    {
     "data": {
      "text/plain": [
       "NAmes      225\n",
       "CollgCr    150\n",
       "OldTown    113\n",
       "Edwards    100\n",
       "Somerst     86\n",
       "Gilbert     79\n",
       "NridgHt     77\n",
       "Sawyer      74\n",
       "NWAmes      73\n",
       "SawyerW     59\n",
       "BrkSide     58\n",
       "Crawfor     51\n",
       "Mitchel     49\n",
       "NoRidge     41\n",
       "Timber      38\n",
       "IDOTRR      37\n",
       "ClearCr     28\n",
       "SWISU       25\n",
       "StoneBr     25\n",
       "MeadowV     17\n",
       "Blmngtn     17\n",
       "BrDale      16\n",
       "Veenker     11\n",
       "NPkVill      9\n",
       "Blueste      2\n",
       "Name: Neighborhood, dtype: int64"
      ]
     },
     "execution_count": 68,
     "metadata": {},
     "output_type": "execute_result"
    }
   ],
   "source": [
    "train.Neighborhood.value_counts(sort=True, dropna=False)"
   ]
  },
  {
   "cell_type": "code",
   "execution_count": 69,
   "id": "a80bb153",
   "metadata": {
    "scrolled": false
   },
   "outputs": [
    {
     "data": {
      "text/plain": [
       "NAmes      218\n",
       "OldTown    126\n",
       "CollgCr    117\n",
       "Somerst     96\n",
       "Edwards     94\n",
       "NridgHt     89\n",
       "Gilbert     86\n",
       "Sawyer      77\n",
       "SawyerW     66\n",
       "Mitchel     65\n",
       "NWAmes      58\n",
       "IDOTRR      56\n",
       "Crawfor     52\n",
       "BrkSide     50\n",
       "Timber      34\n",
       "NoRidge     30\n",
       "StoneBr     26\n",
       "SWISU       23\n",
       "MeadowV     20\n",
       "ClearCr     16\n",
       "BrDale      14\n",
       "NPkVill     14\n",
       "Veenker     13\n",
       "Blmngtn     11\n",
       "Blueste      8\n",
       "Name: Neighborhood, dtype: int64"
      ]
     },
     "execution_count": 69,
     "metadata": {},
     "output_type": "execute_result"
    }
   ],
   "source": [
    "test.Neighborhood.value_counts(sort=True, dropna=False)"
   ]
  },
  {
   "cell_type": "code",
   "execution_count": 70,
   "id": "29cdd6fc",
   "metadata": {},
   "outputs": [
    {
     "data": {
      "image/png": "[encoded data removed]",
      "text/plain": [
       "<Figure size 1152x576 with 1 Axes>"
      ]
     },
     "metadata": {
      "needs_background": "light"
     },
     "output_type": "display_data"
    }
   ],
   "source": [
    "bar(train, \"Neighborhood\", figsize=(16,8), xrotation=75)"
   ]
  },
  {
   "cell_type": "code",
   "execution_count": 71,
   "id": "1c9181d0",
   "metadata": {},
   "outputs": [],
   "source": [
    "# Manually encoding - follow Median order\n",
    "pivot = train.pivot_table(index=\"Neighborhood\",\n",
    "                  values='SalePrice', aggfunc=np.median)\n",
    "manual_map = {}\n",
    "for i, (idx, _) in enumerate(pivot.sort_values('SalePrice').iterrows()):\n",
    "    manual_map[idx] = i\n",
    "\n",
    "train, test = encode(train, test, 'Neighborhood', manual_map)"
   ]
  },
  {
   "cell_type": "code",
   "execution_count": 72,
   "id": "74355845",
   "metadata": {},
   "outputs": [],
   "source": [
    "# Neighborhood -> Nominal\n",
    "#train = pd.get_dummies(train, columns = ['Neighborhood'])\n",
    "#test = pd.get_dummies(test, columns = ['Neighborhood'])"
   ]
  },
  {
   "cell_type": "markdown",
   "id": "654623dc",
   "metadata": {},
   "source": [
    "# Condition1: Proximity to various conditions"
   ]
  },
  {
   "cell_type": "code",
   "execution_count": 73,
   "id": "9551c1f3",
   "metadata": {},
   "outputs": [
    {
     "data": {
      "text/plain": [
       "Norm      1260\n",
       "Feedr       81\n",
       "Artery      48\n",
       "RRAn        26\n",
       "PosN        19\n",
       "RRAe        11\n",
       "PosA         8\n",
       "RRNn         5\n",
       "RRNe         2\n",
       "Name: Condition1, dtype: int64"
      ]
     },
     "execution_count": 73,
     "metadata": {},
     "output_type": "execute_result"
    }
   ],
   "source": [
    "train.Condition1.value_counts(sort=True, dropna=False)"
   ]
  },
  {
   "cell_type": "code",
   "execution_count": 74,
   "id": "f6a0aae7",
   "metadata": {},
   "outputs": [
    {
     "data": {
      "text/plain": [
       "Norm      1251\n",
       "Feedr       83\n",
       "Artery      44\n",
       "RRAn        24\n",
       "PosN        20\n",
       "RRAe        17\n",
       "PosA        12\n",
       "RRNe         4\n",
       "RRNn         4\n",
       "Name: Condition1, dtype: int64"
      ]
     },
     "execution_count": 74,
     "metadata": {},
     "output_type": "execute_result"
    }
   ],
   "source": [
    "test.Condition1.value_counts(sort=True, dropna=False)"
   ]
  },
  {
   "cell_type": "code",
   "execution_count": 75,
   "id": "337296b9",
   "metadata": {},
   "outputs": [
    {
     "data": {
      "image/png": "[encoded data removed]",
      "text/plain": [
       "<Figure size 576x576 with 1 Axes>"
      ]
     },
     "metadata": {
      "needs_background": "light"
     },
     "output_type": "display_data"
    }
   ],
   "source": [
    "bar(train, \"Condition1\", figsize=(8,8), xrotation=75)"
   ]
  },
  {
   "cell_type": "code",
   "execution_count": 76,
   "id": "2ae42978",
   "metadata": {},
   "outputs": [],
   "source": [
    "train = pd.get_dummies(train, columns = ['Condition1'])\n",
    "test = pd.get_dummies(test, columns = ['Condition1'])"
   ]
  },
  {
   "cell_type": "markdown",
   "id": "8da1a4dd",
   "metadata": {},
   "source": [
    "# Condition2: Proximity to various conditions (if more than one is present)"
   ]
  },
  {
   "cell_type": "code",
   "execution_count": 77,
   "id": "205e64de",
   "metadata": {},
   "outputs": [
    {
     "data": {
      "text/plain": [
       "Norm      1445\n",
       "Feedr        6\n",
       "PosN         2\n",
       "Artery       2\n",
       "RRNn         2\n",
       "PosA         1\n",
       "RRAe         1\n",
       "RRAn         1\n",
       "Name: Condition2, dtype: int64"
      ]
     },
     "execution_count": 77,
     "metadata": {},
     "output_type": "execute_result"
    }
   ],
   "source": [
    "train.Condition2.value_counts(sort=True, dropna=False)"
   ]
  },
  {
   "cell_type": "code",
   "execution_count": 78,
   "id": "1627efe6",
   "metadata": {},
   "outputs": [
    {
     "data": {
      "text/plain": [
       "Norm      1444\n",
       "Feedr        7\n",
       "PosA         3\n",
       "Artery       3\n",
       "PosN         2\n",
       "Name: Condition2, dtype: int64"
      ]
     },
     "execution_count": 78,
     "metadata": {},
     "output_type": "execute_result"
    }
   ],
   "source": [
    "test.Condition2.value_counts(sort=True, dropna=False)"
   ]
  },
  {
   "cell_type": "code",
   "execution_count": 79,
   "id": "ceb8f9f7",
   "metadata": {},
   "outputs": [
    {
     "data": {
      "image/png": "[encoded data removed]",
      "text/plain": [
       "<Figure size 576x576 with 1 Axes>"
      ]
     },
     "metadata": {
      "needs_background": "light"
     },
     "output_type": "display_data"
    }
   ],
   "source": [
    "bar(train, \"Condition2\", figsize=(8,8), xrotation=75)"
   ]
  },
  {
   "cell_type": "code",
   "execution_count": 80,
   "id": "2306a4c7",
   "metadata": {},
   "outputs": [],
   "source": [
    "train = pd.get_dummies(train, columns = ['Condition2'])\n",
    "test = pd.get_dummies(test, columns = ['Condition2'])"
   ]
  },
  {
   "cell_type": "markdown",
   "id": "b80c2a20",
   "metadata": {},
   "source": [
    "# BldgType: Type of dwelling"
   ]
  },
  {
   "cell_type": "code",
   "execution_count": 81,
   "id": "2e217ca0",
   "metadata": {},
   "outputs": [
    {
     "data": {
      "text/plain": [
       "1Fam      1220\n",
       "TwnhsE     114\n",
       "Duplex      52\n",
       "Twnhs       43\n",
       "2fmCon      31\n",
       "Name: BldgType, dtype: int64"
      ]
     },
     "execution_count": 81,
     "metadata": {},
     "output_type": "execute_result"
    }
   ],
   "source": [
    "train.BldgType.value_counts(sort=True, dropna=False)"
   ]
  },
  {
   "cell_type": "code",
   "execution_count": 82,
   "id": "91aca384",
   "metadata": {},
   "outputs": [
    {
     "data": {
      "text/plain": [
       "1Fam      1205\n",
       "TwnhsE     113\n",
       "Duplex      57\n",
       "Twnhs       53\n",
       "2fmCon      31\n",
       "Name: BldgType, dtype: int64"
      ]
     },
     "execution_count": 82,
     "metadata": {},
     "output_type": "execute_result"
    }
   ],
   "source": [
    "test.BldgType.value_counts(sort=True, dropna=False)"
   ]
  },
  {
   "cell_type": "code",
   "execution_count": 83,
   "id": "13c2792d",
   "metadata": {},
   "outputs": [
    {
     "data": {
      "image/png": "[encoded data removed]",
      "text/plain": [
       "<Figure size 576x576 with 1 Axes>"
      ]
     },
     "metadata": {
      "needs_background": "light"
     },
     "output_type": "display_data"
    }
   ],
   "source": [
    "bar(train, \"BldgType\", figsize=(8,8), xrotation=75)"
   ]
  },
  {
   "cell_type": "code",
   "execution_count": 84,
   "id": "34c13cfe",
   "metadata": {},
   "outputs": [],
   "source": [
    "#train, test = encode_drop(train, test, \"BldgType\")"
   ]
  },
  {
   "cell_type": "code",
   "execution_count": 85,
   "id": "81f3a792",
   "metadata": {},
   "outputs": [],
   "source": [
    "train = pd.get_dummies(train, columns = ['BldgType'])\n",
    "test = pd.get_dummies(test, columns = ['BldgType'])"
   ]
  },
  {
   "cell_type": "markdown",
   "id": "00f811d8",
   "metadata": {},
   "source": [
    "# HouseStyle: Style of dwelling"
   ]
  },
  {
   "cell_type": "code",
   "execution_count": 86,
   "id": "b9294f1e",
   "metadata": {},
   "outputs": [
    {
     "data": {
      "text/plain": [
       "1Story    726\n",
       "2Story    445\n",
       "1.5Fin    154\n",
       "SLvl       65\n",
       "SFoyer     37\n",
       "1.5Unf     14\n",
       "2.5Unf     11\n",
       "2.5Fin      8\n",
       "Name: HouseStyle, dtype: int64"
      ]
     },
     "execution_count": 86,
     "metadata": {},
     "output_type": "execute_result"
    }
   ],
   "source": [
    "train.HouseStyle.value_counts(sort=True, dropna=False)"
   ]
  },
  {
   "cell_type": "code",
   "execution_count": 87,
   "id": "e1d9debe",
   "metadata": {
    "scrolled": false
   },
   "outputs": [
    {
     "data": {
      "image/png": "[encoded data removed]",
      "text/plain": [
       "<Figure size 576x576 with 1 Axes>"
      ]
     },
     "metadata": {
      "needs_background": "light"
     },
     "output_type": "display_data"
    }
   ],
   "source": [
    "bar(train, \"HouseStyle\", figsize=(8,8), xrotation=75)"
   ]
  },
  {
   "cell_type": "code",
   "execution_count": 88,
   "id": "e358c315",
   "metadata": {},
   "outputs": [],
   "source": [
    "# Manually encoding - follow Median order\n",
    "pivot = train.pivot_table(index=\"HouseStyle\",\n",
    "                  values='SalePrice', aggfunc=np.median)\n",
    "manual_map = {}\n",
    "for i, (idx, _) in enumerate(pivot.sort_values('SalePrice').iterrows()):\n",
    "    manual_map[idx] = i\n",
    "\n",
    "train, test = encode(train, test, 'HouseStyle', manual_map)"
   ]
  },
  {
   "cell_type": "code",
   "execution_count": 89,
   "id": "fc2165d6",
   "metadata": {},
   "outputs": [],
   "source": [
    "# TODO Split between finished and unfinished"
   ]
  },
  {
   "cell_type": "code",
   "execution_count": 90,
   "id": "3a9487c2",
   "metadata": {},
   "outputs": [],
   "source": [
    "story1 = [\"1Story\"]\n",
    "story15 = [\"1.5Fin\", \"1.5Unf\"]\n",
    "story2 = [\"2.5Fin\"]\n",
    "story25 = [\"2.5Unf\"]\n",
    "\n",
    "def story(x):\n",
    "    if x in story25:\n",
    "        return 4\n",
    "    elif x in story2:\n",
    "        return 3\n",
    "    elif x in story15:\n",
    "        return 2\n",
    "    elif x in story1:\n",
    "        return 1\n",
    "    else: return 0\n",
    "\n",
    "#train['HouseStyle_STORY'] = train.HouseStyle.apply(story)\n",
    "#test['HouseStyle_STORY'] = test.HouseStyle.apply(story)"
   ]
  },
  {
   "cell_type": "code",
   "execution_count": 91,
   "id": "a6acd902",
   "metadata": {},
   "outputs": [],
   "source": [
    "sFoyer = [\"SFoyer\"]\n",
    "sLvl = [\"SLvl\"]\n",
    "\n",
    "def foyer(x):\n",
    "    if x in sLvl:\n",
    "        return 2\n",
    "    elif x in sFoyer:\n",
    "        return 1\n",
    "    else: return 0\n",
    "\n",
    "#train['HouseStyle_FOYER'] = train.HouseStyle.apply(foyer)\n",
    "#test['HouseStyle_FOYER'] = test.HouseStyle.apply(foyer)"
   ]
  },
  {
   "cell_type": "code",
   "execution_count": 92,
   "id": "d6620cb1",
   "metadata": {},
   "outputs": [],
   "source": [
    "#train['HouseStyle_FINISHED'] = train.HouseStyle.apply(lambda x: 1 if x in [\"1.5Fin\", \"2.5Fin\"] else 0)\n",
    "#test['HouseStyle_UNFINISHED'] = test.HouseStyle.apply(lambda x: 1 if x in [\"1.5Unf\", \"2.5Unf\"] else 0)"
   ]
  },
  {
   "cell_type": "code",
   "execution_count": 93,
   "id": "806b8e60",
   "metadata": {},
   "outputs": [],
   "source": [
    "#train.drop(\"HouseStyle\",inplace=True, axis=1)\n",
    "#test.drop(\"HouseStyle\",inplace=True, axis=1)"
   ]
  },
  {
   "cell_type": "markdown",
   "id": "7796aa46",
   "metadata": {},
   "source": [
    "# OverallQual: Rates the overall material and finish of the house"
   ]
  },
  {
   "cell_type": "code",
   "execution_count": 94,
   "id": "33977f3c",
   "metadata": {},
   "outputs": [
    {
     "data": {
      "text/plain": [
       "5     397\n",
       "6     374\n",
       "7     319\n",
       "8     168\n",
       "4     116\n",
       "9      43\n",
       "3      20\n",
       "10     18\n",
       "2       3\n",
       "1       2\n",
       "Name: OverallQual, dtype: int64"
      ]
     },
     "execution_count": 94,
     "metadata": {},
     "output_type": "execute_result"
    }
   ],
   "source": [
    "train.OverallQual.value_counts(sort=True, dropna=False)"
   ]
  },
  {
   "cell_type": "code",
   "execution_count": 95,
   "id": "cce4eff7",
   "metadata": {},
   "outputs": [],
   "source": [
    "train['enc_OverallQual'] = le.fit_transform(train.OverallQual.values)\n",
    "test['enc_OverallQual'] = le.fit_transform(test.OverallQual.values)"
   ]
  },
  {
   "cell_type": "code",
   "execution_count": 96,
   "id": "1306fd30",
   "metadata": {},
   "outputs": [],
   "source": [
    "train.drop(\"OverallQual\",inplace=True, axis=1)\n",
    "test.drop(\"OverallQual\",inplace=True, axis=1)"
   ]
  },
  {
   "cell_type": "markdown",
   "id": "220cae2d",
   "metadata": {},
   "source": [
    "# OverallCond: Rates the overall condition of the house"
   ]
  },
  {
   "cell_type": "code",
   "execution_count": 97,
   "id": "5bfa4a2e",
   "metadata": {},
   "outputs": [
    {
     "data": {
      "text/plain": [
       "5    821\n",
       "6    252\n",
       "7    205\n",
       "8     72\n",
       "4     57\n",
       "3     25\n",
       "9     22\n",
       "2      5\n",
       "1      1\n",
       "Name: OverallCond, dtype: int64"
      ]
     },
     "execution_count": 97,
     "metadata": {},
     "output_type": "execute_result"
    }
   ],
   "source": [
    "train.OverallCond.value_counts(sort=True, dropna=False)"
   ]
  },
  {
   "cell_type": "code",
   "execution_count": 98,
   "id": "7d96e4a9",
   "metadata": {},
   "outputs": [],
   "source": [
    "train, test = encode_drop(train, test, \"OverallCond\")"
   ]
  },
  {
   "cell_type": "markdown",
   "id": "605ad723",
   "metadata": {},
   "source": [
    "# Year Built: Original construction date"
   ]
  },
  {
   "cell_type": "code",
   "execution_count": 99,
   "id": "4247eca6",
   "metadata": {},
   "outputs": [
    {
     "data": {
      "text/plain": [
       "2006    67\n",
       "2005    64\n",
       "2004    54\n",
       "2007    49\n",
       "2003    45\n",
       "        ..\n",
       "1904     1\n",
       "1898     1\n",
       "1893     1\n",
       "1882     1\n",
       "2010     1\n",
       "Name: YearBuilt, Length: 112, dtype: int64"
      ]
     },
     "execution_count": 99,
     "metadata": {},
     "output_type": "execute_result"
    }
   ],
   "source": [
    "train.YearBuilt.value_counts(sort=True, dropna=False)"
   ]
  },
  {
   "cell_type": "code",
   "execution_count": 100,
   "id": "b8955f1e",
   "metadata": {},
   "outputs": [],
   "source": [
    "# Normalization has no impact om perf\n",
    "#train.YearBuilt = (train.YearBuilt-train.YearBuilt.mean())/train.YearBuilt.std()"
   ]
  },
  {
   "cell_type": "markdown",
   "id": "78595318",
   "metadata": {},
   "source": [
    "# YearRemodAdd: Remodel date\n",
    "####  (same as construction date if no remodeling or additions)"
   ]
  },
  {
   "cell_type": "code",
   "execution_count": 101,
   "id": "17b6a73b",
   "metadata": {},
   "outputs": [
    {
     "data": {
      "text/plain": [
       "1950    178\n",
       "2006     97\n",
       "2007     76\n",
       "2005     73\n",
       "2004     62\n",
       "       ... \n",
       "2010      6\n",
       "1983      5\n",
       "1986      5\n",
       "1952      5\n",
       "1951      4\n",
       "Name: YearRemodAdd, Length: 61, dtype: int64"
      ]
     },
     "execution_count": 101,
     "metadata": {},
     "output_type": "execute_result"
    }
   ],
   "source": [
    "train.YearRemodAdd.value_counts(sort=True, dropna=False)"
   ]
  },
  {
   "cell_type": "code",
   "execution_count": 102,
   "id": "19a2e624",
   "metadata": {},
   "outputs": [],
   "source": [
    "# Normalization has no impact on perf\n",
    "#train.YearRemodAdd = (train.YearRemodAdd-train.YearRemodAdd.mean())/train.YearRemodAdd.std()"
   ]
  },
  {
   "cell_type": "markdown",
   "id": "3a5d9e81",
   "metadata": {},
   "source": [
    "# RoofStyle: Type of roof"
   ]
  },
  {
   "cell_type": "code",
   "execution_count": 103,
   "id": "5bbb06b8",
   "metadata": {
    "scrolled": true
   },
   "outputs": [
    {
     "data": {
      "text/plain": [
       "Gable      1141\n",
       "Hip         286\n",
       "Flat         13\n",
       "Gambrel      11\n",
       "Mansard       7\n",
       "Shed          2\n",
       "Name: RoofStyle, dtype: int64"
      ]
     },
     "execution_count": 103,
     "metadata": {},
     "output_type": "execute_result"
    }
   ],
   "source": [
    "train.RoofStyle.value_counts(sort=True, dropna=False)"
   ]
  },
  {
   "cell_type": "code",
   "execution_count": 104,
   "id": "f9556e65",
   "metadata": {},
   "outputs": [
    {
     "data": {
      "image/png": "[encoded data removed]",
      "text/plain": [
       "<Figure size 576x576 with 1 Axes>"
      ]
     },
     "metadata": {
      "needs_background": "light"
     },
     "output_type": "display_data"
    }
   ],
   "source": [
    "bar(train, \"RoofStyle\", figsize=(8,8), xrotation=75)"
   ]
  },
  {
   "cell_type": "code",
   "execution_count": 105,
   "id": "8edcbac0",
   "metadata": {},
   "outputs": [],
   "source": [
    "train, test = encode_drop(train, test, \"RoofStyle\")"
   ]
  },
  {
   "cell_type": "markdown",
   "id": "f0c45d1c",
   "metadata": {},
   "source": [
    "# RoofMatl: Roof material"
   ]
  },
  {
   "cell_type": "code",
   "execution_count": 106,
   "id": "1fbbb1e6",
   "metadata": {},
   "outputs": [
    {
     "data": {
      "text/plain": [
       "CompShg    1434\n",
       "Tar&Grv      11\n",
       "WdShngl       6\n",
       "WdShake       5\n",
       "Metal         1\n",
       "Membran       1\n",
       "Roll          1\n",
       "ClyTile       1\n",
       "Name: RoofMatl, dtype: int64"
      ]
     },
     "execution_count": 106,
     "metadata": {},
     "output_type": "execute_result"
    }
   ],
   "source": [
    "train.RoofMatl.value_counts(sort=True, dropna=False)"
   ]
  },
  {
   "cell_type": "code",
   "execution_count": 107,
   "id": "3d2b946e",
   "metadata": {},
   "outputs": [
    {
     "data": {
      "image/png": "[encoded data removed]",
      "text/plain": [
       "<Figure size 576x576 with 1 Axes>"
      ]
     },
     "metadata": {
      "needs_background": "light"
     },
     "output_type": "display_data"
    }
   ],
   "source": [
    "bar(train, \"RoofMatl\", figsize=(8,8), xrotation=75)"
   ]
  },
  {
   "cell_type": "code",
   "execution_count": 108,
   "id": "df7605f0",
   "metadata": {},
   "outputs": [],
   "source": [
    "train = pd.get_dummies(train, columns = ['RoofMatl'])\n",
    "test = pd.get_dummies(test, columns = ['RoofMatl'])"
   ]
  },
  {
   "cell_type": "markdown",
   "id": "ae6b6540",
   "metadata": {},
   "source": [
    "# Exterior1st: Exterior covering on house"
   ]
  },
  {
   "cell_type": "code",
   "execution_count": 109,
   "id": "5ccd3ca0",
   "metadata": {},
   "outputs": [
    {
     "data": {
      "text/plain": [
       "VinylSd    515\n",
       "HdBoard    222\n",
       "MetalSd    220\n",
       "Wd Sdng    206\n",
       "Plywood    108\n",
       "CemntBd     61\n",
       "BrkFace     50\n",
       "WdShing     26\n",
       "Stucco      25\n",
       "AsbShng     20\n",
       "BrkComm      2\n",
       "Stone        2\n",
       "ImStucc      1\n",
       "AsphShn      1\n",
       "CBlock       1\n",
       "Name: Exterior1st, dtype: int64"
      ]
     },
     "execution_count": 109,
     "metadata": {},
     "output_type": "execute_result"
    }
   ],
   "source": [
    "train.Exterior1st.value_counts(sort=True, dropna=False)"
   ]
  },
  {
   "cell_type": "code",
   "execution_count": 110,
   "id": "c2ce9f89",
   "metadata": {},
   "outputs": [
    {
     "data": {
      "image/png": "[encoded data removed]",
      "text/plain": [
       "<Figure size 576x576 with 1 Axes>"
      ]
     },
     "metadata": {
      "needs_background": "light"
     },
     "output_type": "display_data"
    }
   ],
   "source": [
    "bar(train, \"Exterior1st\", figsize=(8,8), xrotation=75)"
   ]
  },
  {
   "cell_type": "code",
   "execution_count": 111,
   "id": "f335570d",
   "metadata": {},
   "outputs": [],
   "source": [
    "# TODO: Study the different materials\n",
    "# Warning: encoding negatively impact the performance"
   ]
  },
  {
   "cell_type": "markdown",
   "id": "65142078",
   "metadata": {},
   "source": [
    "# Exterior2nd: Exterior covering on house (if more than one material)"
   ]
  },
  {
   "cell_type": "code",
   "execution_count": 112,
   "id": "4f178a1a",
   "metadata": {},
   "outputs": [
    {
     "data": {
      "text/plain": [
       "VinylSd    504\n",
       "MetalSd    214\n",
       "HdBoard    207\n",
       "Wd Sdng    197\n",
       "Plywood    142\n",
       "CmentBd     60\n",
       "Wd Shng     38\n",
       "Stucco      26\n",
       "BrkFace     25\n",
       "AsbShng     20\n",
       "ImStucc     10\n",
       "Brk Cmn      7\n",
       "Stone        5\n",
       "AsphShn      3\n",
       "Other        1\n",
       "CBlock       1\n",
       "Name: Exterior2nd, dtype: int64"
      ]
     },
     "execution_count": 112,
     "metadata": {},
     "output_type": "execute_result"
    }
   ],
   "source": [
    "train.Exterior2nd.value_counts(sort=True, dropna=False)"
   ]
  },
  {
   "cell_type": "code",
   "execution_count": 113,
   "id": "1bf5d77d",
   "metadata": {},
   "outputs": [],
   "source": [
    "# Warning: negatively impact the performance\n",
    "#train, test = encode_drop(train, test, \"Exterior2nd\")"
   ]
  },
  {
   "cell_type": "markdown",
   "id": "663d13ec",
   "metadata": {},
   "source": [
    "# MasVnrType: Masonry veneer type"
   ]
  },
  {
   "cell_type": "code",
   "execution_count": 114,
   "id": "38fd9da5",
   "metadata": {},
   "outputs": [
    {
     "data": {
      "text/plain": [
       "None       864\n",
       "BrkFace    445\n",
       "Stone      128\n",
       "BrkCmn      15\n",
       "NaN          8\n",
       "Name: MasVnrType, dtype: int64"
      ]
     },
     "execution_count": 114,
     "metadata": {},
     "output_type": "execute_result"
    }
   ],
   "source": [
    "train.MasVnrType.value_counts(sort=True, dropna=False)"
   ]
  },
  {
   "cell_type": "code",
   "execution_count": 115,
   "id": "5661877d",
   "metadata": {},
   "outputs": [],
   "source": [
    "train.MasVnrType.fillna(\"Other\", inplace=True)\n",
    "test.MasVnrType.fillna(\"Other\", inplace=True)"
   ]
  },
  {
   "cell_type": "code",
   "execution_count": 116,
   "id": "ea412b1b",
   "metadata": {},
   "outputs": [],
   "source": [
    "# Testing different encodings\n",
    "train = pd.get_dummies(train, columns = ['MasVnrType'])\n",
    "test = pd.get_dummies(test, columns = ['MasVnrType'])\n",
    "#train, test = encode_corr(train, test, \"MasVnrType\")\n",
    "#train, test = encode_drop(train, test, \"MasVnrType\")"
   ]
  },
  {
   "cell_type": "markdown",
   "id": "9185c71b",
   "metadata": {},
   "source": [
    "# MasVnrArea: Masonry veneer area in square feet"
   ]
  },
  {
   "cell_type": "code",
   "execution_count": 117,
   "id": "df0c9524",
   "metadata": {},
   "outputs": [
    {
     "data": {
      "text/plain": [
       "0.0      861\n",
       "72.0       8\n",
       "180.0      8\n",
       "108.0      8\n",
       "NaN        8\n",
       "        ... \n",
       "388.0      1\n",
       "426.0      1\n",
       "653.0      1\n",
       "796.0      1\n",
       "415.0      1\n",
       "Name: MasVnrArea, Length: 328, dtype: int64"
      ]
     },
     "execution_count": 117,
     "metadata": {},
     "output_type": "execute_result"
    }
   ],
   "source": [
    "train.MasVnrArea.value_counts(sort=True, dropna=False)"
   ]
  },
  {
   "cell_type": "code",
   "execution_count": 118,
   "id": "d4b39947",
   "metadata": {},
   "outputs": [
    {
     "data": {
      "image/png": "[encoded data removed]",
      "text/plain": [
       "<Figure size 432x288 with 1 Axes>"
      ]
     },
     "metadata": {
      "needs_background": "light"
     },
     "output_type": "display_data"
    }
   ],
   "source": [
    "plt.scatter(x=np.log(train.SalePrice), y=train.MasVnrArea)\n",
    "plt.xlabel('Sale Price')\n",
    "plt.ylabel('Masonry veneer area')\n",
    "plt.show()"
   ]
  },
  {
   "cell_type": "code",
   "execution_count": 119,
   "id": "f1122fad",
   "metadata": {},
   "outputs": [],
   "source": [
    "train.MasVnrArea.fillna(0, inplace=True)\n",
    "test.MasVnrArea.fillna(0, inplace=True)"
   ]
  },
  {
   "cell_type": "markdown",
   "id": "01f52195",
   "metadata": {},
   "source": [
    "# ExterQual: Evaluates the quality of the material on the exterior "
   ]
  },
  {
   "cell_type": "code",
   "execution_count": 120,
   "id": "bf922442",
   "metadata": {},
   "outputs": [
    {
     "data": {
      "text/plain": [
       "TA    906\n",
       "Gd    488\n",
       "Ex     52\n",
       "Fa     14\n",
       "Name: ExterQual, dtype: int64"
      ]
     },
     "execution_count": 120,
     "metadata": {},
     "output_type": "execute_result"
    }
   ],
   "source": [
    "train.ExterQual.value_counts(sort=True, dropna=False)"
   ]
  },
  {
   "cell_type": "code",
   "execution_count": null,
   "id": "2546b7fc",
   "metadata": {},
   "outputs": [],
   "source": [
    "bar(train, \"ExterQual\", figsize=(8,8), xrotation=75)"
   ]
  },
  {
   "cell_type": "code",
   "execution_count": null,
   "id": "2c4acf6d",
   "metadata": {},
   "outputs": [],
   "source": [
    "# Warning: negatively impact the performance\n",
    "# Testing different encodings\n",
    "train, test = encode(train, test, \"ExterQual\", {\"TA\": 2, \"Gd\": 3, \"Ex\": 4, \"Fa\":1, \"Po\":0})\n",
    "#train = pd.get_dummies(train, columns = ['ExterQual'])\n",
    "#test = pd.get_dummies(test, columns = ['ExterQual'])\n",
    "#train, test = encode_corr(train, test, \"ExterQual\")\n",
    "#train, test = encode_drop(train, test, \"ExterQual\")"
   ]
  },
  {
   "cell_type": "code",
   "execution_count": null,
   "id": "fcf519ac",
   "metadata": {},
   "outputs": [],
   "source": []
  },
  {
   "cell_type": "markdown",
   "id": "b6e51a6f",
   "metadata": {},
   "source": [
    "# ExterCond: Evaluates the present condition of the material on the exterior"
   ]
  },
  {
   "cell_type": "code",
   "execution_count": null,
   "id": "21f20a2d",
   "metadata": {},
   "outputs": [],
   "source": [
    "train.ExterCond.value_counts(sort=True, dropna=False)"
   ]
  },
  {
   "cell_type": "code",
   "execution_count": null,
   "id": "24c90caf",
   "metadata": {},
   "outputs": [],
   "source": [
    "# Warning: negatively impact the performance\n",
    "# Testing different encodings\n",
    "#train, test = encode(train, test, \"ExterCond\", {\"TA\": 2, \"Gd\": 3, \"Ex\": 4, \"Fa\":1, \"Po\":0})\n",
    "train = pd.get_dummies(train, columns = ['ExterCond'])\n",
    "#test = pd.get_dummies(test, columns = ['ExterCond'])\n",
    "#train, test = encode_corr(train, test, \"ExterCond\")\n",
    "#train, test = encode_drop(train, test, \"ExterCond\")"
   ]
  },
  {
   "cell_type": "markdown",
   "id": "5350b5f9",
   "metadata": {},
   "source": [
    "# Foundation: Type of foundation"
   ]
  },
  {
   "cell_type": "code",
   "execution_count": null,
   "id": "92825821",
   "metadata": {},
   "outputs": [],
   "source": [
    "train.Foundation.value_counts(sort=True, dropna=False)"
   ]
  },
  {
   "cell_type": "code",
   "execution_count": null,
   "id": "4ea23de3",
   "metadata": {},
   "outputs": [],
   "source": [
    "# Warning: negatively impact the performance\n",
    "# Testing different encodings\n",
    "#train, test = encode(train, test, \"Foundation\", {\"TA\": 2, \"Gd\": 3, \"Ex\": 4, \"Fa\":1, \"Po\":0})\n",
    "#train = pd.get_dummies(train, columns = ['Foundation'])\n",
    "#test = pd.get_dummies(test, columns = ['Foundation'])\n",
    "train, test = encode_corr(train, test, \"Foundation\")\n",
    "#train, test = encode_drop(train, test, \"Foundation\")"
   ]
  },
  {
   "cell_type": "markdown",
   "id": "b0def0aa",
   "metadata": {},
   "source": [
    "# BsmtQual: Evaluates the height of the basement"
   ]
  },
  {
   "cell_type": "code",
   "execution_count": null,
   "id": "bf8fc7ba",
   "metadata": {},
   "outputs": [],
   "source": [
    "train.BsmtQual.value_counts(sort=True, dropna=False)"
   ]
  },
  {
   "cell_type": "code",
   "execution_count": null,
   "id": "4b29048f",
   "metadata": {},
   "outputs": [],
   "source": [
    "#train.BsmtQual.fillna(\"NoBsmt\", inplace=True)\n",
    "#test.BsmtQual.fillna(\"NoBsmt\", inplace=True)"
   ]
  },
  {
   "cell_type": "code",
   "execution_count": null,
   "id": "d05b6774",
   "metadata": {},
   "outputs": [],
   "source": [
    "train.BsmtQual"
   ]
  },
  {
   "cell_type": "code",
   "execution_count": null,
   "id": "319bb249",
   "metadata": {},
   "outputs": [],
   "source": [
    "#train, test = encode_drop(train, test, \"BsmtQual\")"
   ]
  },
  {
   "cell_type": "code",
   "execution_count": null,
   "id": "ec48db63",
   "metadata": {},
   "outputs": [],
   "source": []
  },
  {
   "cell_type": "code",
   "execution_count": null,
   "id": "bfbdbdfb",
   "metadata": {},
   "outputs": [],
   "source": []
  },
  {
   "cell_type": "code",
   "execution_count": null,
   "id": "208b03aa",
   "metadata": {},
   "outputs": [],
   "source": []
  },
  {
   "cell_type": "code",
   "execution_count": null,
   "id": "814842d5",
   "metadata": {},
   "outputs": [],
   "source": []
  },
  {
   "cell_type": "code",
   "execution_count": null,
   "id": "d77744b5",
   "metadata": {},
   "outputs": [],
   "source": []
  },
  {
   "cell_type": "code",
   "execution_count": null,
   "id": "1321e03f",
   "metadata": {},
   "outputs": [],
   "source": []
  },
  {
   "cell_type": "code",
   "execution_count": null,
   "id": "70c99648",
   "metadata": {},
   "outputs": [],
   "source": []
  },
  {
   "cell_type": "code",
   "execution_count": null,
   "id": "9c7281f3",
   "metadata": {},
   "outputs": [],
   "source": []
  },
  {
   "cell_type": "code",
   "execution_count": null,
   "id": "67de4695",
   "metadata": {},
   "outputs": [],
   "source": []
  },
  {
   "cell_type": "code",
   "execution_count": null,
   "id": "ffcdea17",
   "metadata": {},
   "outputs": [],
   "source": []
  },
  {
   "cell_type": "code",
   "execution_count": null,
   "id": "3dbceb6e",
   "metadata": {},
   "outputs": [],
   "source": []
  },
  {
   "cell_type": "code",
   "execution_count": null,
   "id": "2f1e74c2",
   "metadata": {},
   "outputs": [],
   "source": []
  },
  {
   "cell_type": "code",
   "execution_count": null,
   "id": "fe6e9585",
   "metadata": {},
   "outputs": [],
   "source": []
  },
  {
   "cell_type": "code",
   "execution_count": null,
   "id": "4b05a86c",
   "metadata": {},
   "outputs": [],
   "source": []
  },
  {
   "cell_type": "code",
   "execution_count": null,
   "id": "f59e6946",
   "metadata": {},
   "outputs": [],
   "source": []
  },
  {
   "cell_type": "code",
   "execution_count": null,
   "id": "fea28d34",
   "metadata": {},
   "outputs": [],
   "source": []
  },
  {
   "cell_type": "code",
   "execution_count": null,
   "id": "3c0b8416",
   "metadata": {},
   "outputs": [],
   "source": []
  },
  {
   "cell_type": "code",
   "execution_count": null,
   "id": "b5c68708",
   "metadata": {},
   "outputs": [],
   "source": []
  },
  {
   "cell_type": "code",
   "execution_count": null,
   "id": "58939d76",
   "metadata": {},
   "outputs": [],
   "source": []
  },
  {
   "cell_type": "code",
   "execution_count": null,
   "id": "468999ee",
   "metadata": {},
   "outputs": [],
   "source": []
  },
  {
   "cell_type": "code",
   "execution_count": null,
   "id": "1278b541",
   "metadata": {},
   "outputs": [],
   "source": []
  },
  {
   "cell_type": "code",
   "execution_count": null,
   "id": "af52ff33",
   "metadata": {},
   "outputs": [],
   "source": []
  },
  {
   "cell_type": "code",
   "execution_count": null,
   "id": "e6bd715b",
   "metadata": {},
   "outputs": [],
   "source": []
  },
  {
   "cell_type": "code",
   "execution_count": null,
   "id": "092b97c4",
   "metadata": {},
   "outputs": [],
   "source": []
  },
  {
   "cell_type": "code",
   "execution_count": null,
   "id": "1e5b449c",
   "metadata": {},
   "outputs": [],
   "source": []
  },
  {
   "cell_type": "code",
   "execution_count": null,
   "id": "60149a6c",
   "metadata": {},
   "outputs": [],
   "source": []
  },
  {
   "cell_type": "code",
   "execution_count": null,
   "id": "6818613b",
   "metadata": {},
   "outputs": [],
   "source": []
  },
  {
   "cell_type": "code",
   "execution_count": null,
   "id": "22ee43fe",
   "metadata": {},
   "outputs": [],
   "source": []
  },
  {
   "cell_type": "code",
   "execution_count": null,
   "id": "18babf33",
   "metadata": {},
   "outputs": [],
   "source": []
  },
  {
   "cell_type": "code",
   "execution_count": null,
   "id": "8bc44397",
   "metadata": {},
   "outputs": [],
   "source": []
  },
  {
   "cell_type": "code",
   "execution_count": null,
   "id": "07c4e705",
   "metadata": {},
   "outputs": [],
   "source": []
  },
  {
   "cell_type": "code",
   "execution_count": null,
   "id": "d485640b",
   "metadata": {},
   "outputs": [],
   "source": []
  },
  {
   "cell_type": "code",
   "execution_count": null,
   "id": "13b567ef",
   "metadata": {},
   "outputs": [],
   "source": []
  },
  {
   "cell_type": "code",
   "execution_count": null,
   "id": "9081c710",
   "metadata": {},
   "outputs": [],
   "source": []
  },
  {
   "cell_type": "code",
   "execution_count": null,
   "id": "91db9ed6",
   "metadata": {},
   "outputs": [],
   "source": []
  },
  {
   "cell_type": "code",
   "execution_count": null,
   "id": "16b1db28",
   "metadata": {},
   "outputs": [],
   "source": []
  },
  {
   "cell_type": "markdown",
   "id": "1b197e30",
   "metadata": {},
   "source": [
    "### Handling Null Value"
   ]
  },
  {
   "cell_type": "code",
   "execution_count": null,
   "id": "607ae23b",
   "metadata": {},
   "outputs": [],
   "source": [
    "nulls = pd.DataFrame(train.isnull().sum().sort_values(ascending=False)[:25])\n",
    "nulls.columns = ['Null Count']\n",
    "nulls.index.name = 'Feature'\n",
    "nulls"
   ]
  },
  {
   "cell_type": "markdown",
   "id": "a7811da8",
   "metadata": {},
   "source": [
    "### Replace missing data"
   ]
  },
  {
   "cell_type": "code",
   "execution_count": null,
   "id": "5f8d5618",
   "metadata": {},
   "outputs": [],
   "source": [
    "data = train.select_dtypes(include=[np.number]).interpolate().dropna()"
   ]
  },
  {
   "cell_type": "code",
   "execution_count": null,
   "id": "8ab23f2f",
   "metadata": {},
   "outputs": [],
   "source": [
    "# Test General normalization\n",
    "#data = (data-data.mean())/data.std()\n",
    "#data = (data-data.min())/(data.max()-data.min()) # Gives worst results"
   ]
  },
  {
   "cell_type": "markdown",
   "id": "cfa5f215",
   "metadata": {},
   "source": [
    "### Split data"
   ]
  },
  {
   "cell_type": "code",
   "execution_count": null,
   "id": "d7e98812",
   "metadata": {},
   "outputs": [],
   "source": [
    "y = np.log(train.SalePrice)\n",
    "X = data.drop(['SalePrice', 'Id'], axis=1)"
   ]
  },
  {
   "cell_type": "code",
   "execution_count": null,
   "id": "326aea0d",
   "metadata": {},
   "outputs": [],
   "source": [
    "X_train, X_test, y_train, y_test = train_test_split(\n",
    "                          X, y, random_state=42, test_size=.33)"
   ]
  },
  {
   "cell_type": "markdown",
   "id": "48ffb2da",
   "metadata": {},
   "source": [
    "# Modeling"
   ]
  },
  {
   "cell_type": "code",
   "execution_count": null,
   "id": "af7523d9",
   "metadata": {},
   "outputs": [],
   "source": [
    "df_result = pd.DataFrame(columns=['Method','RMSE','GridParams'])"
   ]
  },
  {
   "cell_type": "code",
   "execution_count": null,
   "id": "a6eae5a0",
   "metadata": {},
   "outputs": [],
   "source": [
    "def rmse(df, model):\n",
    "    predictions = model.predict(X_test)\n",
    "    rmse = mean_squared_error(y_test, predictions, squared=False)\n",
    "    return df.append({'Method':model.__class__.__name__, 'RMSE':rmse}, ignore_index=True)\n",
    "\n",
    "def grid_rmse(df, grid):\n",
    "    rmse = np.sqrt(np.sqrt(np.abs(grid.best_score_)))\n",
    "    if hasattr(grid, 'best_params_'):\n",
    "        params = grid.best_params_\n",
    "    return df.append({'Method':\"{} Grid\".format(grid.estimator.__class__.__name__), 'RMSE':rmse, 'GridParams':params}, ignore_index=True)"
   ]
  },
  {
   "cell_type": "markdown",
   "id": "d29164f4",
   "metadata": {},
   "source": [
    "## Linear Regression"
   ]
  },
  {
   "cell_type": "code",
   "execution_count": null,
   "id": "58a0d324",
   "metadata": {},
   "outputs": [],
   "source": [
    "lr = linear_model.LinearRegression()\n",
    "lr.fit(X_train, y_train)\n",
    "predictions = lr.predict(X_test)\n",
    "#print (\"Root Square is: \\n\", lr.score(X_test, y_test))\n",
    "#print ('RMSE is: \\n', mean_squared_error(y_test, predictions, squared=False))\n",
    "\n",
    "# Add to the main array\n",
    "df_result = rmse(df_result, lr)\n",
    "df_result"
   ]
  },
  {
   "cell_type": "markdown",
   "id": "4655b8e7",
   "metadata": {},
   "source": [
    "## Ridge Regression"
   ]
  },
  {
   "cell_type": "markdown",
   "id": "8341f2c5",
   "metadata": {},
   "source": [
    "### Grid Search"
   ]
  },
  {
   "cell_type": "code",
   "execution_count": null,
   "id": "83c5fa7b",
   "metadata": {},
   "outputs": [],
   "source": [
    "alphas = np.array([1,0.1,0.01,0.001,0.0001,0])\n",
    "ridge_model = linear_model.Ridge()\n",
    "grid = GridSearchCV(estimator=ridge_model, param_grid=dict(alpha=alphas))\n",
    "grid.fit(X_train, y_train)"
   ]
  },
  {
   "cell_type": "code",
   "execution_count": null,
   "id": "75e49114",
   "metadata": {},
   "outputs": [],
   "source": [
    "grid.best_estimator_"
   ]
  },
  {
   "cell_type": "code",
   "execution_count": null,
   "id": "8d95f8b3",
   "metadata": {},
   "outputs": [],
   "source": [
    "grid.best_params_"
   ]
  },
  {
   "cell_type": "code",
   "execution_count": null,
   "id": "18e5d26d",
   "metadata": {},
   "outputs": [],
   "source": [
    "print(grid.best_estimator_)\n",
    "df_result = grid_rmse(df_result, grid)"
   ]
  },
  {
   "cell_type": "markdown",
   "id": "c259a75d",
   "metadata": {},
   "source": [
    "### Simple"
   ]
  },
  {
   "cell_type": "code",
   "execution_count": null,
   "id": "7a85071a",
   "metadata": {},
   "outputs": [],
   "source": [
    "ridge_model = linear_model.Ridge(alpha=grid.best_estimator_.alpha)\n",
    "ridge_model.fit(X_train, y_train)\n",
    "preds_ridge = ridge_model.predict(X_test)\n",
    "print(ridge_model.score(X_test, y_test))\n",
    "print(\"Ridge Regression RMSE: {}\".format(mean_squared_error(y_test, preds_ridge, squared=False)))\n",
    "df_result = rmse(df_result, ridge_model)\n",
    "df_result"
   ]
  },
  {
   "cell_type": "markdown",
   "id": "7ea089df",
   "metadata": {},
   "source": [
    "## Lasso"
   ]
  },
  {
   "cell_type": "code",
   "execution_count": null,
   "id": "71d5e9f1",
   "metadata": {},
   "outputs": [],
   "source": [
    "alphas = np.array([1,0.1,0.01,0.001,0.0001,0])\n",
    "lasso_model = linear_model.Lasso()\n",
    "grid_lasso = GridSearchCV(estimator=lasso_model, param_grid=dict(alpha=alphas))\n",
    "grid_lasso.fit(X_train, y_train)\n",
    "df_result = grid_rmse(df_result, grid_lasso)\n",
    "df_result"
   ]
  },
  {
   "cell_type": "markdown",
   "id": "05ee5720",
   "metadata": {},
   "source": [
    "## Random Forest"
   ]
  },
  {
   "cell_type": "markdown",
   "id": "98d0ddec",
   "metadata": {},
   "source": [
    "### Grid Search"
   ]
  },
  {
   "cell_type": "code",
   "execution_count": null,
   "id": "388c05bf",
   "metadata": {},
   "outputs": [],
   "source": [
    "# Search Ranfom Forest Grid\n",
    "do_rf_grid = False"
   ]
  },
  {
   "cell_type": "code",
   "execution_count": null,
   "id": "b694c83e",
   "metadata": {},
   "outputs": [],
   "source": [
    "if do_rf_grid:\n",
    "    rf_params = {'n_estimators': range(150, 600, 10), 'max_depth': range(3, 15, 1),'min_samples_leaf':[0.04,0.06,0.08,0.1,0.12,0.14], 'max_features':[0.2,0.4,0.6,0.8]}\n",
    "\n",
    "    grid_rf = GridSearchCV(estimator = RandomForestRegressor(),\n",
    "                         param_grid = rf_params,\n",
    "                         cv=10,\n",
    "                         scoring='neg_mean_squared_error',\n",
    "                         verbose=1,\n",
    "                         n_jobs=-1)\n",
    "    grid_rf.fit(X_train, y_train)\n",
    "    df_result = grid_rmse(df_result, grid_rf)\n",
    "    print('Best parameters found for rf: ', grid_rf.best_params_)\n",
    "    print('Lowerst RMSE found for rf: ', np.sqrt(np.sqrt(np.abs(grid_rf.best_score_))))"
   ]
  },
  {
   "cell_type": "markdown",
   "id": "85e97258",
   "metadata": {},
   "source": [
    "### Simple"
   ]
  },
  {
   "cell_type": "code",
   "execution_count": null,
   "id": "274f41b2",
   "metadata": {},
   "outputs": [],
   "source": [
    "rf = RandomForestRegressor(n_estimators = 400, min_samples_leaf=0.12, random_state=123)\n",
    "rf.fit(X_train, y_train)\n",
    "rf_pred = rf.predict(X_test)\n",
    "print(\"Random Forest RMSE: {} \".format(mean_squared_error(y_test, rf_pred,squared=False)))\n",
    "df_result = rmse(df_result, rf)\n",
    "df_result"
   ]
  },
  {
   "cell_type": "markdown",
   "id": "159e28ec",
   "metadata": {},
   "source": [
    "## Bayesian Regression"
   ]
  },
  {
   "cell_type": "code",
   "execution_count": null,
   "id": "c9d4fbf4",
   "metadata": {},
   "outputs": [],
   "source": [
    "bayesridge_model = linear_model.BayesianRidge()\n",
    "bayesridge_model.fit(X_train, y_train)\n",
    "df_result = rmse(df_result, bayesridge_model)\n",
    "df_result"
   ]
  },
  {
   "cell_type": "markdown",
   "id": "e92f7f5c",
   "metadata": {},
   "source": [
    "## Logistic Regression"
   ]
  },
  {
   "cell_type": "code",
   "execution_count": null,
   "id": "57c32909",
   "metadata": {},
   "outputs": [],
   "source": [
    "#clf = LogisticRegression(random_state=0).fit(X_train, y_train)\n",
    "#df_result = rmse(df_result, clf)\n",
    "#df_result"
   ]
  },
  {
   "cell_type": "markdown",
   "id": "e5d69d4f",
   "metadata": {},
   "source": [
    "## CatBoost Regressor"
   ]
  },
  {
   "cell_type": "code",
   "execution_count": null,
   "id": "5b027575",
   "metadata": {},
   "outputs": [],
   "source": [
    "cbr = CatBoostRegressor().fit(X_train,y_train)\n",
    "df_result = rmse(df_result, cbr)\n",
    "df_result"
   ]
  },
  {
   "cell_type": "markdown",
   "id": "f8d97e2c",
   "metadata": {},
   "source": [
    "## XGBoost"
   ]
  },
  {
   "cell_type": "markdown",
   "id": "2251a738",
   "metadata": {},
   "source": [
    "### Grid Search"
   ]
  },
  {
   "cell_type": "code",
   "execution_count": null,
   "id": "2b1a0303",
   "metadata": {},
   "outputs": [],
   "source": [
    "gbm_param_grid = {'learning_rate': [0.01, 0.1, 0.5, 0.9], 'n_estimators': [200], 'subsample':[0.3,0.5,0.9]}\n",
    "grid_xgb = GridSearchCV(estimator=xgb.XGBRegressor(objective ='reg:squarederror'), param_grid=gbm_param_grid, scoring='neg_mean_squared_error', cv=4, verbose=1)\n",
    "grid_xgb.fit(X_train,y_train)\n",
    "df_result = grid_rmse(df_result, grid_xgb)\n",
    "df_result"
   ]
  },
  {
   "cell_type": "code",
   "execution_count": null,
   "id": "8e421372",
   "metadata": {
    "scrolled": true
   },
   "outputs": [],
   "source": [
    "xgbm = xgb.XGBRegressor(objective ='reg:squarederror', colsample_bytree = 1, learning_rate = 0.01,\n",
    "                max_depth=5, alpha = 10, n_estimators = 1000)\n",
    "xgbm.fit(X_train,y_train)\n",
    "df_result = rmse(df_result, xgbm)\n",
    "df_result"
   ]
  },
  {
   "cell_type": "code",
   "execution_count": null,
   "id": "11722aaf",
   "metadata": {},
   "outputs": [],
   "source": [
    "# Intermediate results\n",
    "print(df_result['RMSE'].to_string(index=False))"
   ]
  },
  {
   "cell_type": "markdown",
   "id": "40c02d10",
   "metadata": {},
   "source": [
    "## Gradient Boost Regressor"
   ]
  },
  {
   "cell_type": "code",
   "execution_count": null,
   "id": "8ad0d7a4",
   "metadata": {},
   "outputs": [],
   "source": [
    "num_folds = 10\n",
    "seed = 7\n",
    "scoring = 'neg_mean_squared_error'\n",
    "\n",
    "scaler = StandardScaler().fit(X_train)\n",
    "rescaledX = scaler.transform(X_train)\n",
    "param_grid = {'n_estimators': [10, 50, 100, 200, 300, 400, 500, 600, 700, 800, 900]}\n",
    "\n",
    "kfold = KFold(n_splits=num_folds)\n",
    "grid_gb = GridSearchCV(estimator=GradientBoostingRegressor(), param_grid=param_grid, scoring=scoring, cv=kfold)\n",
    "grid_result = grid_gb.fit(X=rescaledX, y=y_train)\n",
    "\n",
    "df_result = grid_rmse(df_result, grid_gb)\n",
    "df_result"
   ]
  },
  {
   "cell_type": "markdown",
   "id": "b9346edb",
   "metadata": {},
   "source": [
    "## Extra Trees Regressor"
   ]
  },
  {
   "cell_type": "code",
   "execution_count": null,
   "id": "e521319b",
   "metadata": {},
   "outputs": [],
   "source": [
    "etr_model = ExtraTreesRegressor(n_estimators=80)\n",
    "etr_model.fit(X=X_train, y=y_train)\n",
    "df_result = rmse(df_result, etr_model)\n",
    "df_result"
   ]
  },
  {
   "cell_type": "markdown",
   "id": "3c2c1535",
   "metadata": {},
   "source": [
    "# Results"
   ]
  },
  {
   "cell_type": "code",
   "execution_count": null,
   "id": "e5812b23",
   "metadata": {},
   "outputs": [],
   "source": [
    "df_result.sort_values(by='RMSE')"
   ]
  },
  {
   "cell_type": "code",
   "execution_count": null,
   "id": "ed803686",
   "metadata": {},
   "outputs": [],
   "source": [
    "print(df_result['RMSE'].to_string(index=False))"
   ]
  },
  {
   "cell_type": "code",
   "execution_count": null,
   "id": "0ed7c6c2",
   "metadata": {},
   "outputs": [],
   "source": []
  }
 ],
 "metadata": {
  "kernelspec": {
   "display_name": "Python 3",
   "language": "python",
   "name": "python3"
  },
  "language_info": {
   "codemirror_mode": {
    "name": "ipython",
    "version": 3
   },
   "file_extension": ".py",
   "mimetype": "text/x-python",
   "name": "python",
   "nbconvert_exporter": "python",
   "pygments_lexer": "ipython3",
   "version": "3.8.10"
  }
 },
 "nbformat": 4,
 "nbformat_minor": 5
}
